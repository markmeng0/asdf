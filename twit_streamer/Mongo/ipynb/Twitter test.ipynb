{
 "cells": [
  {
   "cell_type": "code",
   "execution_count": 2,
   "metadata": {},
   "outputs": [],
   "source": [
    "consumer_key = 'LjPot0s4ipAJ1R2UzcT91WWXs'\n",
    "consumer_secret = '7xwm9jjV8w5yrepi4K24ozskeXlXn1QNHz7MvxAjcIza0vIsrs'\n",
    "access_token = '1020138399552790528-NSoD9LgEkA1ne2oBDFogOvfJkE2r66'\n",
    "access_secret = 'GsakoOIlM1HJ58uU4HqK4WnqxWFgiWMyMHhoAhjfwWrCz'"
   ]
  },
  {
   "cell_type": "code",
   "execution_count": 3,
   "metadata": {},
   "outputs": [
    {
     "name": "stdout",
     "output_type": "stream",
     "text": [
      "Requirement already satisfied: twitter in /opt/conda/lib/python3.6/site-packages (1.18.0)\r\n"
     ]
    }
   ],
   "source": [
    "!pip install twitter"
   ]
  },
  {
   "cell_type": "code",
   "execution_count": 4,
   "metadata": {},
   "outputs": [],
   "source": [
    "from twitter import OAuth"
   ]
  },
  {
   "cell_type": "code",
   "execution_count": 5,
   "metadata": {},
   "outputs": [],
   "source": [
    "oauth = OAuth(access_token, access_secret, consumer_key, consumer_secret)"
   ]
  },
  {
   "cell_type": "code",
   "execution_count": 6,
   "metadata": {},
   "outputs": [],
   "source": [
    "bounding_box = \"-118.5137323688,34.0001996344,-118.4702449172,34.0331651696\""
   ]
  },
  {
   "cell_type": "code",
   "execution_count": null,
   "metadata": {},
   "outputs": [],
   "source": []
  },
  {
   "cell_type": "code",
   "execution_count": 7,
   "metadata": {},
   "outputs": [],
   "source": [
    "from lib import create_tweet_iterator\n",
    "tweet_iterator = create_tweet_iterator(access_token,access_secret,consumer_key,consumer_secret,bounding_box)"
   ]
  },
  {
   "cell_type": "code",
   "execution_count": 8,
   "metadata": {},
   "outputs": [],
   "source": [
    "tweets = []\n",
    "i = 1\n",
    "while i<11:\n",
    "    tweets.append(next(tweet_iterator))\n",
    "    i += 1"
   ]
  },
  {
   "cell_type": "code",
   "execution_count": 9,
   "metadata": {},
   "outputs": [
    {
     "data": {
      "text/plain": [
       "10"
      ]
     },
     "execution_count": 9,
     "metadata": {},
     "output_type": "execute_result"
    }
   ],
   "source": [
    "len(tweets)"
   ]
  },
  {
   "cell_type": "code",
   "execution_count": 10,
   "metadata": {},
   "outputs": [],
   "source": [
    "import json"
   ]
  },
  {
   "cell_type": "code",
   "execution_count": 11,
   "metadata": {},
   "outputs": [
    {
     "name": "stdout",
     "output_type": "stream",
     "text": [
      "tweets-mark-2018-07-24_03-59-20-478995.json\n"
     ]
    }
   ],
   "source": [
    "from lib import create_timestamped_filename\n",
    "\n",
    "username = 'mark'\n",
    "filename = create_timestamped_filename(username)\n",
    "\n",
    "with open(filename, 'w') as outfile:\n",
    "    json.dump(tweets,outfile)\n",
    "print(filename)"
   ]
  },
  {
   "cell_type": "code",
   "execution_count": 12,
   "metadata": {},
   "outputs": [
    {
     "name": "stdout",
     "output_type": "stream",
     "text": [
      "Requirement already satisfied: boto3 in /opt/conda/lib/python3.6/site-packages (1.7.62)\r\n",
      "Requirement already satisfied: s3transfer<0.2.0,>=0.1.10 in /opt/conda/lib/python3.6/site-packages (from boto3) (0.1.13)\r\n",
      "Requirement already satisfied: botocore<1.11.0,>=1.10.62 in /opt/conda/lib/python3.6/site-packages (from boto3) (1.10.62)\r\n",
      "Requirement already satisfied: jmespath<1.0.0,>=0.7.1 in /opt/conda/lib/python3.6/site-packages (from boto3) (0.9.3)\r\n",
      "Requirement already satisfied: docutils>=0.10 in /opt/conda/lib/python3.6/site-packages (from botocore<1.11.0,>=1.10.62->boto3) (0.14)\r\n",
      "Requirement already satisfied: python-dateutil<3.0.0,>=2.1; python_version >= \"2.7\" in /opt/conda/lib/python3.6/site-packages (from botocore<1.11.0,>=1.10.62->boto3) (2.7.3)\r\n",
      "Requirement already satisfied: six>=1.5 in /opt/conda/lib/python3.6/site-packages (from python-dateutil<3.0.0,>=2.1; python_version >= \"2.7\"->botocore<1.11.0,>=1.10.62->boto3) (1.11.0)\r\n"
     ]
    }
   ],
   "source": [
    "!pip install boto3\n",
    "from lib import create_boto_client\n",
    "s3_client = create_boto_client()"
   ]
  },
  {
   "cell_type": "code",
   "execution_count": 18,
   "metadata": {},
   "outputs": [],
   "source": [
    "from lib import write_file_to_S3\n",
    "\n",
    "filename = 'tweets-mark-2018-07-24_02-37-46-350548.json'\n",
    "s3_bucket = 'uclax-data-science'\n",
    "\n",
    "write_file_to_S3(s3_client,'tweets-mark-2018-07-24_03-59-20-478995.json',s3_bucket)"
   ]
  },
  {
   "cell_type": "code",
   "execution_count": 19,
   "metadata": {},
   "outputs": [
    {
     "data": {
      "text/plain": [
       "['data.json',\n",
       " 'tweets-ChillSimmons-2018-07-24_02-33-28-092154.json',\n",
       " 'tweets-Nathan-2018-07-24_03-04-56-925443.json',\n",
       " 'tweets-albert-2018-07-24_02-21-19-501738.json',\n",
       " 'tweets-arthur-2018-07-24_02-55-11-950153.json',\n",
       " 'tweets-delane-2018-07-24_02-59-26-337555.json',\n",
       " 'tweets-delane-2018-07-24_03-44-29-631218.json',\n",
       " 'tweets-dennissibo-2018-07-24_02-12-06-781711.json',\n",
       " 'tweets-jia-2018-07-24_02-20-18-817448.json',\n",
       " 'tweets-joshua-2018-07-21_14-09-23-363540.json',\n",
       " 'tweets-joshua-2018-07-23_11-22-20-369005.json',\n",
       " 'tweets-joshua-2018-07-23_11-59-41-971097.json',\n",
       " 'tweets-joshua-2018-07-24_02-21-29-011479.json',\n",
       " 'tweets-karl-2018-07-24_02-35-48-846756.json',\n",
       " 'tweets-karl-2018-07-24_03-15-35-189918.json',\n",
       " 'tweets-kristine-2018-07-24_02-21-53-840324.json',\n",
       " 'tweets-liling-2018-07-24_02-31-04-417107.json',\n",
       " 'tweets-mark-2018-07-24_02-37-46-350548.json',\n",
       " 'tweets-mark-2018-07-24_03-59-20-478995.json',\n",
       " 'tweets-mei-2018-07-24_02-58-40-073422.json',\n",
       " 'tweets-mryan-2018-07-24_02-14-02-454519.json',\n",
       " 'tweets-mryan-2018-07-24_03-08-50-339769.json',\n",
       " 'tweets-nina-2018-07-24_02-16-10-999671.json',\n",
       " 'tweets-nina-2018-07-24_02-36-32-438954.json',\n",
       " 'tweets-ougracie-2018-07-24_03-16-11-135484.json',\n",
       " 'tweets-samson77766-2018-07-24_03-05-31-106810.json',\n",
       " 'tweets-sangyun_jacob-2018-07-24_02-35-06-149229.json',\n",
       " 'tweets-shubha-2018-07-24_03-55-37-675816.json',\n",
       " 'tweets-stanley-2018-07-24_02-04-13-008476.json',\n",
       " 'tweets-stanley-2018-07-24_02-22-16-555638.json',\n",
       " 'tweets-stanley-2018-07-24_02-22-54-081139.json',\n",
       " 'tweets-stanley-2018-07-24_02-25-59-012050.json',\n",
       " 'tweets-stanley-2018-07-24_02-58-27-153544.json',\n",
       " 'tweets-stanley-2018-07-24_03-06-19-762314.json',\n",
       " 'tweets-stanley-2018-07-24_03-42-59-446422.json',\n",
       " 'tweets-stanley-2018-07-24_03-47-14-650423.json',\n",
       " 'tweets-stanley-2018-07-24_03-48-21-750114.json',\n",
       " 'tweets-yan-2018-07-24_02-11-42-466065.json']"
      ]
     },
     "execution_count": 19,
     "metadata": {},
     "output_type": "execute_result"
    }
   ],
   "source": [
    "from lib import list_files_in_S3_bucket\n",
    "\n",
    "s3_bucket = 'uclax-data-science'\n",
    "\n",
    "list_files_in_S3_bucket(s3_client,s3_bucket)"
   ]
  },
  {
   "cell_type": "code",
   "execution_count": 20,
   "metadata": {
    "scrolled": false
   },
   "outputs": [],
   "source": [
    "from lib import read_object_from_S3\n",
    "s3_bucket = 'uclax-data-science'\n",
    "\n",
    "tweets_from_s3 = read_object_from_S3(s3_client,'tweets-mark-2018-07-24_03-59-20-478995.json',s3_bucket)"
   ]
  },
  {
   "cell_type": "code",
   "execution_count": 21,
   "metadata": {},
   "outputs": [
    {
     "data": {
      "text/plain": [
       "<pymongo.results.InsertOneResult at 0x7fda2da31188>"
      ]
     },
     "execution_count": 21,
     "metadata": {},
     "output_type": "execute_result"
    }
   ],
   "source": [
    "from lib import create_mongo_client_to_database_collection\n",
    "\n",
    "tweet = tweets_from_s3[1]\n",
    "collection_client = create_mongo_client_to_database_collection('twitter','tweets')\n",
    "collection_client.insert_one(tweet)"
   ]
  },
  {
   "cell_type": "code",
   "execution_count": 22,
   "metadata": {},
   "outputs": [
    {
     "data": {
      "text/plain": [
       "10"
      ]
     },
     "execution_count": 22,
     "metadata": {},
     "output_type": "execute_result"
    }
   ],
   "source": [
    "len(tweets_from_s3)"
   ]
  },
  {
   "cell_type": "code",
   "execution_count": 23,
   "metadata": {},
   "outputs": [
    {
     "ename": "IndexError",
     "evalue": "list index out of range",
     "output_type": "error",
     "traceback": [
      "\u001b[0;31m---------------------------------------------------------------------------\u001b[0m",
      "\u001b[0;31mIndexError\u001b[0m                                Traceback (most recent call last)",
      "\u001b[0;32m<ipython-input-23-7d6bb6eff502>\u001b[0m in \u001b[0;36m<module>\u001b[0;34m()\u001b[0m\n\u001b[1;32m      1\u001b[0m \u001b[0mi\u001b[0m \u001b[0;34m=\u001b[0m \u001b[0;36m2\u001b[0m\u001b[0;34m\u001b[0m\u001b[0m\n\u001b[1;32m      2\u001b[0m \u001b[0;32mwhile\u001b[0m \u001b[0mi\u001b[0m \u001b[0;34m<=\u001b[0m \u001b[0mlen\u001b[0m\u001b[0;34m(\u001b[0m\u001b[0mtweets_from_s3\u001b[0m\u001b[0;34m)\u001b[0m\u001b[0;34m:\u001b[0m\u001b[0;34m\u001b[0m\u001b[0m\n\u001b[0;32m----> 3\u001b[0;31m     \u001b[0mtweet\u001b[0m \u001b[0;34m=\u001b[0m \u001b[0mtweets_from_s3\u001b[0m\u001b[0;34m[\u001b[0m\u001b[0mi\u001b[0m\u001b[0;34m]\u001b[0m\u001b[0;34m\u001b[0m\u001b[0m\n\u001b[0m\u001b[1;32m      4\u001b[0m     \u001b[0mcollection_client\u001b[0m\u001b[0;34m.\u001b[0m\u001b[0minsert_one\u001b[0m\u001b[0;34m(\u001b[0m\u001b[0mtweet\u001b[0m\u001b[0;34m)\u001b[0m\u001b[0;34m\u001b[0m\u001b[0m\n\u001b[1;32m      5\u001b[0m     \u001b[0mi\u001b[0m \u001b[0;34m+=\u001b[0m \u001b[0;36m1\u001b[0m\u001b[0;34m\u001b[0m\u001b[0m\n",
      "\u001b[0;31mIndexError\u001b[0m: list index out of range"
     ]
    }
   ],
   "source": [
    "i = 2\n",
    "while i <= len(tweets_from_s3):\n",
    "    tweet = tweets_from_s3[i]\n",
    "    collection_client.insert_one(tweet)\n",
    "    i += 1"
   ]
  },
  {
   "cell_type": "code",
   "execution_count": null,
   "metadata": {},
   "outputs": [],
   "source": [
    "collection_client.insert_one(tweet)"
   ]
  },
  {
   "cell_type": "code",
   "execution_count": null,
   "metadata": {},
   "outputs": [],
   "source": []
  }
 ],
 "metadata": {
  "kernelspec": {
   "display_name": "Python 3",
   "language": "python",
   "name": "python3"
  },
  "language_info": {
   "codemirror_mode": {
    "name": "ipython",
    "version": 3
   },
   "file_extension": ".py",
   "mimetype": "text/x-python",
   "name": "python",
   "nbconvert_exporter": "python",
   "pygments_lexer": "ipython3",
   "version": "3.6.5"
  }
 },
 "nbformat": 4,
 "nbformat_minor": 2
}
