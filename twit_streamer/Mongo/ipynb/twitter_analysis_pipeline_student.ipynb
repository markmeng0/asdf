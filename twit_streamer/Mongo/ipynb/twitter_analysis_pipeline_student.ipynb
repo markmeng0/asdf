{
 "cells": [
  {
   "cell_type": "markdown",
   "metadata": {},
   "source": [
    "# Twitter Analysis Pipeline\n",
    "\n",
    "![](https://www.evernote.com/l/AAFtiWq4lUNNiqyswF72dUV3f_7Geq_TcykB/image.png)"
   ]
  },
  {
   "cell_type": "code",
   "execution_count": 1,
   "metadata": {},
   "outputs": [],
   "source": [
    "! pip install boto3 pymongo twitter --quiet"
   ]
  },
  {
   "cell_type": "code",
   "execution_count": 2,
   "metadata": {},
   "outputs": [],
   "source": [
    "import lib "
   ]
  },
  {
   "cell_type": "markdown",
   "metadata": {},
   "source": [
    "## Write Tweets to S3"
   ]
  },
  {
   "cell_type": "markdown",
   "metadata": {},
   "source": [
    "### Create a Tweet Iterator"
   ]
  },
  {
   "cell_type": "code",
   "execution_count": 3,
   "metadata": {},
   "outputs": [],
   "source": [
    "consumer_key    = 'LjPot0s4ipAJ1R2UzcT91WWXs'\n",
    "consumer_secret = '7xwm9jjV8w5yrepi4K24ozskeXlXn1QNHz7MvxAjcIza0vIsrs'\n",
    "token           = '1020138399552790528-NSoD9LgEkA1ne2oBDFogOvfJkE2r66'\n",
    "token_secret    = 'GsakoOIlM1HJ58uU4HqK4WnqxWFgiWMyMHhoAhjfwWrCz'\n",
    "bounding_box    = \"-118.5137323688,34.0001996344,-118.4702449172,34.0331651696\"\n",
    "\n",
    "tweet_iterator  = lib.create_tweet_iterator(token, \n",
    "                                            token_secret,\n",
    "                                            consumer_key,\n",
    "                                            consumer_secret,\n",
    "                                            bounding_box)"
   ]
  },
  {
   "cell_type": "code",
   "execution_count": 4,
   "metadata": {},
   "outputs": [],
   "source": [
    "tweets = [next(tweet_iterator) for _ in range(50)]"
   ]
  },
  {
   "cell_type": "code",
   "execution_count": 5,
   "metadata": {},
   "outputs": [],
   "source": [
    "tweets_2 = []\n",
    "for _ in range(50):\n",
    "    tweets_2.append(next(tweet_iterator))"
   ]
  },
  {
   "cell_type": "markdown",
   "metadata": {},
   "source": [
    "### Write list of tweets to JSON file on disk"
   ]
  },
  {
   "cell_type": "code",
   "execution_count": 6,
   "metadata": {},
   "outputs": [],
   "source": [
    "import json \n",
    "\n",
    "username = 'mark'\n",
    "\n",
    "filename = lib.create_timestamped_filename(username)\n",
    "with open(filename, 'w') as outfile:\n",
    "    json.dump(tweets, outfile)\n",
    "    \n",
    "filename = lib.create_timestamped_filename(username)\n",
    "with open(filename, 'w') as outfile:\n",
    "    json.dump(tweets_2, outfile)    "
   ]
  },
  {
   "cell_type": "markdown",
   "metadata": {},
   "source": [
    "### Write Tweet Files to S3, Step 1 - Create a Boto Client to S3\n",
    "\n",
    "https://boto3.readthedocs.io"
   ]
  },
  {
   "cell_type": "code",
   "execution_count": 7,
   "metadata": {},
   "outputs": [],
   "source": [
    "s3_client = lib.create_boto_client()"
   ]
  },
  {
   "cell_type": "code",
   "execution_count": 8,
   "metadata": {},
   "outputs": [],
   "source": [
    "from os import listdir"
   ]
  },
  {
   "cell_type": "code",
   "execution_count": 10,
   "metadata": {},
   "outputs": [
    {
     "data": {
      "text/plain": [
       "['tweets-mark-2018-07-26_01-15-10-970777.json',\n",
       " 'tweets-mark-2018-07-24_03-51-56-187383.json',\n",
       " 'tweets-mark-2018-07-26_01-15-10-950495.json',\n",
       " 'tweets-mark-2018-07-24_02-26-34-669341.json',\n",
       " 'tweets-mark-2018-07-24_02-34-15-562280.json',\n",
       " 'tweets-mark-2018-07-24_03-59-20-478995.json',\n",
       " 'tweets-mark-2018-07-24_02-25-50-384070.json',\n",
       " 'tweets-mark-2018-07-24_02-37-46-350548.json',\n",
       " 'tweets-mark-2018-07-24_02-29-27-268409.json',\n",
       " 'tweets-mark-2018-07-24_03-57-55-937055.json']"
      ]
     },
     "execution_count": 10,
     "metadata": {},
     "output_type": "execute_result"
    }
   ],
   "source": [
    "current_directory = listdir()\n",
    "current_directory = [file for file in current_directory if 'tweets-mark' in file]\n",
    "current_directory"
   ]
  },
  {
   "cell_type": "code",
   "execution_count": 11,
   "metadata": {},
   "outputs": [],
   "source": [
    "from os import rename"
   ]
  },
  {
   "cell_type": "markdown",
   "metadata": {},
   "source": [
    "### Write Tweet Files to S3, Step 2 - Write a file to S3"
   ]
  },
  {
   "cell_type": "code",
   "execution_count": 12,
   "metadata": {},
   "outputs": [],
   "source": [
    "S3_BUCKET = 'uclax-data-science'\n",
    "\n",
    "for filename in current_directory:\n",
    "    lib.write_file_to_S3(s3_client, filename, S3_BUCKET)\n",
    "    old_filename = filename\n",
    "    filename = filename.replace('.json', '')\n",
    "    filename = filename + '-processed.json'\n",
    "    rename(old_filename, filename)"
   ]
  },
  {
   "cell_type": "code",
   "execution_count": 15,
   "metadata": {},
   "outputs": [
    {
     "data": {
      "text/plain": [
       "['tweets-mark-2018-07-24_02-29-27-268409-processed.json',\n",
       " 'tweets-mark-2018-07-24_02-25-50-384070-processed.json',\n",
       " 'tweets-mark-2018-07-26_01-15-10-950495-processed.json',\n",
       " 'tweets-mark-2018-07-24_03-51-56-187383-processed.json',\n",
       " 'tweets-mark-2018-07-26_01-15-10-970777-processed.json',\n",
       " 'tweets-mark-2018-07-24_02-37-46-350548-processed.json',\n",
       " 'tweets-mark-2018-07-24_03-57-55-937055-processed.json',\n",
       " 'tweets-mark-2018-07-24_02-34-15-562280-processed.json',\n",
       " 'tweets-mark-2018-07-24_03-59-20-478995-processed.json',\n",
       " 'tweets-mark-2018-07-24_02-26-34-669341-processed.json']"
      ]
     },
     "execution_count": 15,
     "metadata": {},
     "output_type": "execute_result"
    }
   ],
   "source": [
    "current_directory = listdir()\n",
    "current_directory = [file for file in current_directory if 'tweets-mark' in file]\n",
    "current_directory"
   ]
  },
  {
   "cell_type": "markdown",
   "metadata": {},
   "source": [
    "### List Files on S3"
   ]
  },
  {
   "cell_type": "code",
   "execution_count": 16,
   "metadata": {},
   "outputs": [
    {
     "data": {
      "text/plain": [
       "['tweets-mark-2018-07-24_02-25-50-384070.json',\n",
       " 'tweets-mark-2018-07-24_02-26-34-669341.json',\n",
       " 'tweets-mark-2018-07-24_02-29-27-268409.json',\n",
       " 'tweets-mark-2018-07-24_02-34-15-562280.json',\n",
       " 'tweets-mark-2018-07-24_02-37-46-350548.json',\n",
       " 'tweets-mark-2018-07-24_03-51-56-187383.json',\n",
       " 'tweets-mark-2018-07-24_03-57-55-937055.json',\n",
       " 'tweets-mark-2018-07-24_03-59-20-478995.json',\n",
       " 'tweets-mark-2018-07-26_01-15-10-950495.json',\n",
       " 'tweets-mark-2018-07-26_01-15-10-970777.json']"
      ]
     },
     "execution_count": 16,
     "metadata": {},
     "output_type": "execute_result"
    }
   ],
   "source": [
    "s3_files = lib.list_files_in_S3_bucket(s3_client, S3_BUCKET)\n",
    "s3_files = [file for file in s3_files if 'tweets-mark' in file]\n",
    "s3_files"
   ]
  },
  {
   "cell_type": "markdown",
   "metadata": {},
   "source": [
    "## Write Tweets to Mongo"
   ]
  },
  {
   "cell_type": "markdown",
   "metadata": {},
   "source": [
    "### Read an object from S3"
   ]
  },
  {
   "cell_type": "code",
   "execution_count": 21,
   "metadata": {},
   "outputs": [],
   "source": [
    "S3_BUCKET = 'uclax-data-science'\n",
    "key = s3_files[1]\n",
    "\n",
    "tweets_from_s3 = lib.read_object_from_S3(s3_client, 'tweets-mark-2018-07-26_01-15-10-970777.json', S3_BUCKET)"
   ]
  },
  {
   "cell_type": "markdown",
   "metadata": {},
   "source": [
    "### Write Tweets to Mongo"
   ]
  },
  {
   "cell_type": "code",
   "execution_count": 22,
   "metadata": {},
   "outputs": [],
   "source": [
    "from pymongo.errors import DuplicateKeyError"
   ]
  },
  {
   "cell_type": "code",
   "execution_count": 23,
   "metadata": {},
   "outputs": [],
   "source": [
    "collection_client = lib.create_mongo_client_to_database_collection('twitter', 'tweets')\n",
    "for tweet in tweets_from_s3:\n",
    "    try:\n",
    "        collection_client.insert_one(tweet)\n",
    "    except DuplicateKeyError as e:\n",
    "        print(e)"
   ]
  },
  {
   "cell_type": "code",
   "execution_count": 24,
   "metadata": {},
   "outputs": [
    {
     "name": "stdout",
     "output_type": "stream",
     "text": [
      "E11000 duplicate key error collection: twitter.tweets index: _id_ dup key: { : ObjectId('5b59227539cb64017fc81e15') }\n",
      "E11000 duplicate key error collection: twitter.tweets index: _id_ dup key: { : ObjectId('5b59227639cb64017fc81e16') }\n",
      "E11000 duplicate key error collection: twitter.tweets index: _id_ dup key: { : ObjectId('5b59227639cb64017fc81e17') }\n",
      "E11000 duplicate key error collection: twitter.tweets index: _id_ dup key: { : ObjectId('5b59227639cb64017fc81e18') }\n",
      "E11000 duplicate key error collection: twitter.tweets index: _id_ dup key: { : ObjectId('5b59227639cb64017fc81e19') }\n",
      "E11000 duplicate key error collection: twitter.tweets index: _id_ dup key: { : ObjectId('5b59227739cb64017fc81e1a') }\n",
      "E11000 duplicate key error collection: twitter.tweets index: _id_ dup key: { : ObjectId('5b59227739cb64017fc81e1b') }\n",
      "E11000 duplicate key error collection: twitter.tweets index: _id_ dup key: { : ObjectId('5b59227739cb64017fc81e1c') }\n",
      "E11000 duplicate key error collection: twitter.tweets index: _id_ dup key: { : ObjectId('5b59227739cb64017fc81e1d') }\n",
      "E11000 duplicate key error collection: twitter.tweets index: _id_ dup key: { : ObjectId('5b59227739cb64017fc81e1e') }\n",
      "E11000 duplicate key error collection: twitter.tweets index: _id_ dup key: { : ObjectId('5b59227739cb64017fc81e1f') }\n",
      "E11000 duplicate key error collection: twitter.tweets index: _id_ dup key: { : ObjectId('5b59227739cb64017fc81e20') }\n",
      "E11000 duplicate key error collection: twitter.tweets index: _id_ dup key: { : ObjectId('5b59227739cb64017fc81e21') }\n",
      "E11000 duplicate key error collection: twitter.tweets index: _id_ dup key: { : ObjectId('5b59227739cb64017fc81e22') }\n",
      "E11000 duplicate key error collection: twitter.tweets index: _id_ dup key: { : ObjectId('5b59227739cb64017fc81e23') }\n",
      "E11000 duplicate key error collection: twitter.tweets index: _id_ dup key: { : ObjectId('5b59227739cb64017fc81e24') }\n",
      "E11000 duplicate key error collection: twitter.tweets index: _id_ dup key: { : ObjectId('5b59227739cb64017fc81e25') }\n",
      "E11000 duplicate key error collection: twitter.tweets index: _id_ dup key: { : ObjectId('5b59227839cb64017fc81e26') }\n",
      "E11000 duplicate key error collection: twitter.tweets index: _id_ dup key: { : ObjectId('5b59227839cb64017fc81e27') }\n",
      "E11000 duplicate key error collection: twitter.tweets index: _id_ dup key: { : ObjectId('5b59227839cb64017fc81e28') }\n",
      "E11000 duplicate key error collection: twitter.tweets index: _id_ dup key: { : ObjectId('5b59227839cb64017fc81e29') }\n",
      "E11000 duplicate key error collection: twitter.tweets index: _id_ dup key: { : ObjectId('5b59227839cb64017fc81e2a') }\n",
      "E11000 duplicate key error collection: twitter.tweets index: _id_ dup key: { : ObjectId('5b59227839cb64017fc81e2b') }\n",
      "E11000 duplicate key error collection: twitter.tweets index: _id_ dup key: { : ObjectId('5b59227839cb64017fc81e2c') }\n",
      "E11000 duplicate key error collection: twitter.tweets index: _id_ dup key: { : ObjectId('5b59227839cb64017fc81e2d') }\n",
      "E11000 duplicate key error collection: twitter.tweets index: _id_ dup key: { : ObjectId('5b59227939cb64017fc81e2e') }\n",
      "E11000 duplicate key error collection: twitter.tweets index: _id_ dup key: { : ObjectId('5b59227939cb64017fc81e2f') }\n",
      "E11000 duplicate key error collection: twitter.tweets index: _id_ dup key: { : ObjectId('5b59227939cb64017fc81e30') }\n",
      "E11000 duplicate key error collection: twitter.tweets index: _id_ dup key: { : ObjectId('5b59227939cb64017fc81e31') }\n",
      "E11000 duplicate key error collection: twitter.tweets index: _id_ dup key: { : ObjectId('5b59227939cb64017fc81e32') }\n",
      "E11000 duplicate key error collection: twitter.tweets index: _id_ dup key: { : ObjectId('5b59227939cb64017fc81e33') }\n",
      "E11000 duplicate key error collection: twitter.tweets index: _id_ dup key: { : ObjectId('5b59227939cb64017fc81e34') }\n",
      "E11000 duplicate key error collection: twitter.tweets index: _id_ dup key: { : ObjectId('5b59227939cb64017fc81e35') }\n",
      "E11000 duplicate key error collection: twitter.tweets index: _id_ dup key: { : ObjectId('5b59227939cb64017fc81e36') }\n",
      "E11000 duplicate key error collection: twitter.tweets index: _id_ dup key: { : ObjectId('5b59227939cb64017fc81e37') }\n",
      "E11000 duplicate key error collection: twitter.tweets index: _id_ dup key: { : ObjectId('5b59227939cb64017fc81e38') }\n",
      "E11000 duplicate key error collection: twitter.tweets index: _id_ dup key: { : ObjectId('5b59227a39cb64017fc81e39') }\n",
      "E11000 duplicate key error collection: twitter.tweets index: _id_ dup key: { : ObjectId('5b59227a39cb64017fc81e3a') }\n",
      "E11000 duplicate key error collection: twitter.tweets index: _id_ dup key: { : ObjectId('5b59227a39cb64017fc81e3b') }\n",
      "E11000 duplicate key error collection: twitter.tweets index: _id_ dup key: { : ObjectId('5b59227a39cb64017fc81e3c') }\n",
      "E11000 duplicate key error collection: twitter.tweets index: _id_ dup key: { : ObjectId('5b59227a39cb64017fc81e3d') }\n",
      "E11000 duplicate key error collection: twitter.tweets index: _id_ dup key: { : ObjectId('5b59227a39cb64017fc81e3e') }\n",
      "E11000 duplicate key error collection: twitter.tweets index: _id_ dup key: { : ObjectId('5b59227a39cb64017fc81e3f') }\n",
      "E11000 duplicate key error collection: twitter.tweets index: _id_ dup key: { : ObjectId('5b59227a39cb64017fc81e40') }\n",
      "E11000 duplicate key error collection: twitter.tweets index: _id_ dup key: { : ObjectId('5b59227a39cb64017fc81e41') }\n",
      "E11000 duplicate key error collection: twitter.tweets index: _id_ dup key: { : ObjectId('5b59227a39cb64017fc81e42') }\n",
      "E11000 duplicate key error collection: twitter.tweets index: _id_ dup key: { : ObjectId('5b59227b39cb64017fc81e43') }\n",
      "E11000 duplicate key error collection: twitter.tweets index: _id_ dup key: { : ObjectId('5b59227b39cb64017fc81e44') }\n",
      "E11000 duplicate key error collection: twitter.tweets index: _id_ dup key: { : ObjectId('5b59227b39cb64017fc81e45') }\n",
      "E11000 duplicate key error collection: twitter.tweets index: _id_ dup key: { : ObjectId('5b59227b39cb64017fc81e46') }\n"
     ]
    }
   ],
   "source": [
    "collection_client = lib.create_mongo_client_to_database_collection('twitter', 'tweets')\n",
    "for tweet in tweets_from_s3:\n",
    "    try:\n",
    "        collection_client.insert_one(tweet)\n",
    "    except DuplicateKeyError as e:\n",
    "        print(e)"
   ]
  },
  {
   "cell_type": "code",
   "execution_count": 25,
   "metadata": {},
   "outputs": [
    {
     "name": "stdout",
     "output_type": "stream",
     "text": [
      "E11000 duplicate key error collection: twitter.tweets index: _id_ dup key: { : ObjectId('5b59227539cb64017fc81e15') }\n",
      "E11000 duplicate key error collection: twitter.tweets index: _id_ dup key: { : ObjectId('5b59227639cb64017fc81e16') }\n",
      "E11000 duplicate key error collection: twitter.tweets index: _id_ dup key: { : ObjectId('5b59227639cb64017fc81e17') }\n",
      "E11000 duplicate key error collection: twitter.tweets index: _id_ dup key: { : ObjectId('5b59227639cb64017fc81e18') }\n",
      "E11000 duplicate key error collection: twitter.tweets index: _id_ dup key: { : ObjectId('5b59227639cb64017fc81e19') }\n",
      "E11000 duplicate key error collection: twitter.tweets index: _id_ dup key: { : ObjectId('5b59227739cb64017fc81e1a') }\n",
      "E11000 duplicate key error collection: twitter.tweets index: _id_ dup key: { : ObjectId('5b59227739cb64017fc81e1b') }\n",
      "E11000 duplicate key error collection: twitter.tweets index: _id_ dup key: { : ObjectId('5b59227739cb64017fc81e1c') }\n",
      "E11000 duplicate key error collection: twitter.tweets index: _id_ dup key: { : ObjectId('5b59227739cb64017fc81e1d') }\n",
      "E11000 duplicate key error collection: twitter.tweets index: _id_ dup key: { : ObjectId('5b59227739cb64017fc81e1e') }\n",
      "E11000 duplicate key error collection: twitter.tweets index: _id_ dup key: { : ObjectId('5b59227739cb64017fc81e1f') }\n",
      "E11000 duplicate key error collection: twitter.tweets index: _id_ dup key: { : ObjectId('5b59227739cb64017fc81e20') }\n",
      "E11000 duplicate key error collection: twitter.tweets index: _id_ dup key: { : ObjectId('5b59227739cb64017fc81e21') }\n",
      "E11000 duplicate key error collection: twitter.tweets index: _id_ dup key: { : ObjectId('5b59227739cb64017fc81e22') }\n",
      "E11000 duplicate key error collection: twitter.tweets index: _id_ dup key: { : ObjectId('5b59227739cb64017fc81e23') }\n",
      "E11000 duplicate key error collection: twitter.tweets index: _id_ dup key: { : ObjectId('5b59227739cb64017fc81e24') }\n",
      "E11000 duplicate key error collection: twitter.tweets index: _id_ dup key: { : ObjectId('5b59227739cb64017fc81e25') }\n",
      "E11000 duplicate key error collection: twitter.tweets index: _id_ dup key: { : ObjectId('5b59227839cb64017fc81e26') }\n",
      "E11000 duplicate key error collection: twitter.tweets index: _id_ dup key: { : ObjectId('5b59227839cb64017fc81e27') }\n",
      "E11000 duplicate key error collection: twitter.tweets index: _id_ dup key: { : ObjectId('5b59227839cb64017fc81e28') }\n",
      "E11000 duplicate key error collection: twitter.tweets index: _id_ dup key: { : ObjectId('5b59227839cb64017fc81e29') }\n",
      "E11000 duplicate key error collection: twitter.tweets index: _id_ dup key: { : ObjectId('5b59227839cb64017fc81e2a') }\n",
      "E11000 duplicate key error collection: twitter.tweets index: _id_ dup key: { : ObjectId('5b59227839cb64017fc81e2b') }\n",
      "E11000 duplicate key error collection: twitter.tweets index: _id_ dup key: { : ObjectId('5b59227839cb64017fc81e2c') }\n",
      "E11000 duplicate key error collection: twitter.tweets index: _id_ dup key: { : ObjectId('5b59227839cb64017fc81e2d') }\n",
      "E11000 duplicate key error collection: twitter.tweets index: _id_ dup key: { : ObjectId('5b59227939cb64017fc81e2e') }\n",
      "E11000 duplicate key error collection: twitter.tweets index: _id_ dup key: { : ObjectId('5b59227939cb64017fc81e2f') }\n",
      "E11000 duplicate key error collection: twitter.tweets index: _id_ dup key: { : ObjectId('5b59227939cb64017fc81e30') }\n",
      "E11000 duplicate key error collection: twitter.tweets index: _id_ dup key: { : ObjectId('5b59227939cb64017fc81e31') }\n",
      "E11000 duplicate key error collection: twitter.tweets index: _id_ dup key: { : ObjectId('5b59227939cb64017fc81e32') }\n",
      "E11000 duplicate key error collection: twitter.tweets index: _id_ dup key: { : ObjectId('5b59227939cb64017fc81e33') }\n",
      "E11000 duplicate key error collection: twitter.tweets index: _id_ dup key: { : ObjectId('5b59227939cb64017fc81e34') }\n",
      "E11000 duplicate key error collection: twitter.tweets index: _id_ dup key: { : ObjectId('5b59227939cb64017fc81e35') }\n",
      "E11000 duplicate key error collection: twitter.tweets index: _id_ dup key: { : ObjectId('5b59227939cb64017fc81e36') }\n",
      "E11000 duplicate key error collection: twitter.tweets index: _id_ dup key: { : ObjectId('5b59227939cb64017fc81e37') }\n",
      "E11000 duplicate key error collection: twitter.tweets index: _id_ dup key: { : ObjectId('5b59227939cb64017fc81e38') }\n",
      "E11000 duplicate key error collection: twitter.tweets index: _id_ dup key: { : ObjectId('5b59227a39cb64017fc81e39') }\n",
      "E11000 duplicate key error collection: twitter.tweets index: _id_ dup key: { : ObjectId('5b59227a39cb64017fc81e3a') }\n",
      "E11000 duplicate key error collection: twitter.tweets index: _id_ dup key: { : ObjectId('5b59227a39cb64017fc81e3b') }\n",
      "E11000 duplicate key error collection: twitter.tweets index: _id_ dup key: { : ObjectId('5b59227a39cb64017fc81e3c') }\n",
      "E11000 duplicate key error collection: twitter.tweets index: _id_ dup key: { : ObjectId('5b59227a39cb64017fc81e3d') }\n",
      "E11000 duplicate key error collection: twitter.tweets index: _id_ dup key: { : ObjectId('5b59227a39cb64017fc81e3e') }\n",
      "E11000 duplicate key error collection: twitter.tweets index: _id_ dup key: { : ObjectId('5b59227a39cb64017fc81e3f') }\n",
      "E11000 duplicate key error collection: twitter.tweets index: _id_ dup key: { : ObjectId('5b59227a39cb64017fc81e40') }\n",
      "E11000 duplicate key error collection: twitter.tweets index: _id_ dup key: { : ObjectId('5b59227a39cb64017fc81e41') }\n",
      "E11000 duplicate key error collection: twitter.tweets index: _id_ dup key: { : ObjectId('5b59227a39cb64017fc81e42') }\n",
      "E11000 duplicate key error collection: twitter.tweets index: _id_ dup key: { : ObjectId('5b59227b39cb64017fc81e43') }\n",
      "E11000 duplicate key error collection: twitter.tweets index: _id_ dup key: { : ObjectId('5b59227b39cb64017fc81e44') }\n",
      "E11000 duplicate key error collection: twitter.tweets index: _id_ dup key: { : ObjectId('5b59227b39cb64017fc81e45') }\n",
      "E11000 duplicate key error collection: twitter.tweets index: _id_ dup key: { : ObjectId('5b59227b39cb64017fc81e46') }\n",
      "E11000 duplicate key error collection: twitter.tweets index: _id_ dup key: { : ObjectId('5b59227539cb64017fc81e15') }\n",
      "E11000 duplicate key error collection: twitter.tweets index: _id_ dup key: { : ObjectId('5b59227639cb64017fc81e16') }\n",
      "E11000 duplicate key error collection: twitter.tweets index: _id_ dup key: { : ObjectId('5b59227639cb64017fc81e17') }\n",
      "E11000 duplicate key error collection: twitter.tweets index: _id_ dup key: { : ObjectId('5b59227639cb64017fc81e18') }\n",
      "E11000 duplicate key error collection: twitter.tweets index: _id_ dup key: { : ObjectId('5b59227639cb64017fc81e19') }\n",
      "E11000 duplicate key error collection: twitter.tweets index: _id_ dup key: { : ObjectId('5b59227739cb64017fc81e1a') }\n",
      "E11000 duplicate key error collection: twitter.tweets index: _id_ dup key: { : ObjectId('5b59227739cb64017fc81e1b') }\n",
      "E11000 duplicate key error collection: twitter.tweets index: _id_ dup key: { : ObjectId('5b59227739cb64017fc81e1c') }\n",
      "E11000 duplicate key error collection: twitter.tweets index: _id_ dup key: { : ObjectId('5b59227739cb64017fc81e1d') }\n",
      "E11000 duplicate key error collection: twitter.tweets index: _id_ dup key: { : ObjectId('5b59227739cb64017fc81e1e') }\n",
      "E11000 duplicate key error collection: twitter.tweets index: _id_ dup key: { : ObjectId('5b59227739cb64017fc81e1f') }\n",
      "E11000 duplicate key error collection: twitter.tweets index: _id_ dup key: { : ObjectId('5b59227739cb64017fc81e20') }\n",
      "E11000 duplicate key error collection: twitter.tweets index: _id_ dup key: { : ObjectId('5b59227739cb64017fc81e21') }\n",
      "E11000 duplicate key error collection: twitter.tweets index: _id_ dup key: { : ObjectId('5b59227739cb64017fc81e22') }\n",
      "E11000 duplicate key error collection: twitter.tweets index: _id_ dup key: { : ObjectId('5b59227739cb64017fc81e23') }\n",
      "E11000 duplicate key error collection: twitter.tweets index: _id_ dup key: { : ObjectId('5b59227739cb64017fc81e24') }\n",
      "E11000 duplicate key error collection: twitter.tweets index: _id_ dup key: { : ObjectId('5b59227739cb64017fc81e25') }\n",
      "E11000 duplicate key error collection: twitter.tweets index: _id_ dup key: { : ObjectId('5b59227839cb64017fc81e26') }\n",
      "E11000 duplicate key error collection: twitter.tweets index: _id_ dup key: { : ObjectId('5b59227839cb64017fc81e27') }\n",
      "E11000 duplicate key error collection: twitter.tweets index: _id_ dup key: { : ObjectId('5b59227839cb64017fc81e28') }\n"
     ]
    },
    {
     "name": "stdout",
     "output_type": "stream",
     "text": [
      "E11000 duplicate key error collection: twitter.tweets index: _id_ dup key: { : ObjectId('5b59227839cb64017fc81e29') }\n",
      "E11000 duplicate key error collection: twitter.tweets index: _id_ dup key: { : ObjectId('5b59227839cb64017fc81e2a') }\n",
      "E11000 duplicate key error collection: twitter.tweets index: _id_ dup key: { : ObjectId('5b59227839cb64017fc81e2b') }\n",
      "E11000 duplicate key error collection: twitter.tweets index: _id_ dup key: { : ObjectId('5b59227839cb64017fc81e2c') }\n",
      "E11000 duplicate key error collection: twitter.tweets index: _id_ dup key: { : ObjectId('5b59227839cb64017fc81e2d') }\n",
      "E11000 duplicate key error collection: twitter.tweets index: _id_ dup key: { : ObjectId('5b59227939cb64017fc81e2e') }\n",
      "E11000 duplicate key error collection: twitter.tweets index: _id_ dup key: { : ObjectId('5b59227939cb64017fc81e2f') }\n",
      "E11000 duplicate key error collection: twitter.tweets index: _id_ dup key: { : ObjectId('5b59227939cb64017fc81e30') }\n",
      "E11000 duplicate key error collection: twitter.tweets index: _id_ dup key: { : ObjectId('5b59227939cb64017fc81e31') }\n",
      "E11000 duplicate key error collection: twitter.tweets index: _id_ dup key: { : ObjectId('5b59227939cb64017fc81e32') }\n",
      "E11000 duplicate key error collection: twitter.tweets index: _id_ dup key: { : ObjectId('5b59227939cb64017fc81e33') }\n",
      "E11000 duplicate key error collection: twitter.tweets index: _id_ dup key: { : ObjectId('5b59227939cb64017fc81e34') }\n",
      "E11000 duplicate key error collection: twitter.tweets index: _id_ dup key: { : ObjectId('5b59227939cb64017fc81e35') }\n",
      "E11000 duplicate key error collection: twitter.tweets index: _id_ dup key: { : ObjectId('5b59227939cb64017fc81e36') }\n",
      "E11000 duplicate key error collection: twitter.tweets index: _id_ dup key: { : ObjectId('5b59227939cb64017fc81e37') }\n",
      "E11000 duplicate key error collection: twitter.tweets index: _id_ dup key: { : ObjectId('5b59227939cb64017fc81e38') }\n",
      "E11000 duplicate key error collection: twitter.tweets index: _id_ dup key: { : ObjectId('5b59227a39cb64017fc81e39') }\n",
      "E11000 duplicate key error collection: twitter.tweets index: _id_ dup key: { : ObjectId('5b59227a39cb64017fc81e3a') }\n",
      "E11000 duplicate key error collection: twitter.tweets index: _id_ dup key: { : ObjectId('5b59227a39cb64017fc81e3b') }\n",
      "E11000 duplicate key error collection: twitter.tweets index: _id_ dup key: { : ObjectId('5b59227a39cb64017fc81e3c') }\n",
      "E11000 duplicate key error collection: twitter.tweets index: _id_ dup key: { : ObjectId('5b59227a39cb64017fc81e3d') }\n",
      "E11000 duplicate key error collection: twitter.tweets index: _id_ dup key: { : ObjectId('5b59227a39cb64017fc81e3e') }\n",
      "E11000 duplicate key error collection: twitter.tweets index: _id_ dup key: { : ObjectId('5b59227a39cb64017fc81e3f') }\n",
      "E11000 duplicate key error collection: twitter.tweets index: _id_ dup key: { : ObjectId('5b59227a39cb64017fc81e40') }\n",
      "E11000 duplicate key error collection: twitter.tweets index: _id_ dup key: { : ObjectId('5b59227a39cb64017fc81e41') }\n",
      "E11000 duplicate key error collection: twitter.tweets index: _id_ dup key: { : ObjectId('5b59227a39cb64017fc81e42') }\n",
      "E11000 duplicate key error collection: twitter.tweets index: _id_ dup key: { : ObjectId('5b59227b39cb64017fc81e43') }\n",
      "E11000 duplicate key error collection: twitter.tweets index: _id_ dup key: { : ObjectId('5b59227b39cb64017fc81e44') }\n",
      "E11000 duplicate key error collection: twitter.tweets index: _id_ dup key: { : ObjectId('5b59227b39cb64017fc81e45') }\n",
      "E11000 duplicate key error collection: twitter.tweets index: _id_ dup key: { : ObjectId('5b59227b39cb64017fc81e46') }\n",
      "E11000 duplicate key error collection: twitter.tweets index: _id_ dup key: { : ObjectId('5b59227539cb64017fc81e15') }\n",
      "E11000 duplicate key error collection: twitter.tweets index: _id_ dup key: { : ObjectId('5b59227639cb64017fc81e16') }\n",
      "E11000 duplicate key error collection: twitter.tweets index: _id_ dup key: { : ObjectId('5b59227639cb64017fc81e17') }\n",
      "E11000 duplicate key error collection: twitter.tweets index: _id_ dup key: { : ObjectId('5b59227639cb64017fc81e18') }\n",
      "E11000 duplicate key error collection: twitter.tweets index: _id_ dup key: { : ObjectId('5b59227639cb64017fc81e19') }\n",
      "E11000 duplicate key error collection: twitter.tweets index: _id_ dup key: { : ObjectId('5b59227739cb64017fc81e1a') }\n",
      "E11000 duplicate key error collection: twitter.tweets index: _id_ dup key: { : ObjectId('5b59227739cb64017fc81e1b') }\n",
      "E11000 duplicate key error collection: twitter.tweets index: _id_ dup key: { : ObjectId('5b59227739cb64017fc81e1c') }\n",
      "E11000 duplicate key error collection: twitter.tweets index: _id_ dup key: { : ObjectId('5b59227739cb64017fc81e1d') }\n",
      "E11000 duplicate key error collection: twitter.tweets index: _id_ dup key: { : ObjectId('5b59227739cb64017fc81e1e') }\n",
      "E11000 duplicate key error collection: twitter.tweets index: _id_ dup key: { : ObjectId('5b59227739cb64017fc81e1f') }\n",
      "E11000 duplicate key error collection: twitter.tweets index: _id_ dup key: { : ObjectId('5b59227739cb64017fc81e20') }\n",
      "E11000 duplicate key error collection: twitter.tweets index: _id_ dup key: { : ObjectId('5b59227739cb64017fc81e21') }\n",
      "E11000 duplicate key error collection: twitter.tweets index: _id_ dup key: { : ObjectId('5b59227739cb64017fc81e22') }\n",
      "E11000 duplicate key error collection: twitter.tweets index: _id_ dup key: { : ObjectId('5b59227739cb64017fc81e23') }\n",
      "E11000 duplicate key error collection: twitter.tweets index: _id_ dup key: { : ObjectId('5b59227739cb64017fc81e24') }\n",
      "E11000 duplicate key error collection: twitter.tweets index: _id_ dup key: { : ObjectId('5b59227739cb64017fc81e25') }\n",
      "E11000 duplicate key error collection: twitter.tweets index: _id_ dup key: { : ObjectId('5b59227839cb64017fc81e26') }\n",
      "E11000 duplicate key error collection: twitter.tweets index: _id_ dup key: { : ObjectId('5b59227839cb64017fc81e27') }\n",
      "E11000 duplicate key error collection: twitter.tweets index: _id_ dup key: { : ObjectId('5b59227839cb64017fc81e28') }\n",
      "E11000 duplicate key error collection: twitter.tweets index: _id_ dup key: { : ObjectId('5b59227839cb64017fc81e29') }\n",
      "E11000 duplicate key error collection: twitter.tweets index: _id_ dup key: { : ObjectId('5b59227839cb64017fc81e2a') }\n",
      "E11000 duplicate key error collection: twitter.tweets index: _id_ dup key: { : ObjectId('5b59227839cb64017fc81e2b') }\n",
      "E11000 duplicate key error collection: twitter.tweets index: _id_ dup key: { : ObjectId('5b59227839cb64017fc81e2c') }\n",
      "E11000 duplicate key error collection: twitter.tweets index: _id_ dup key: { : ObjectId('5b59227839cb64017fc81e2d') }\n",
      "E11000 duplicate key error collection: twitter.tweets index: _id_ dup key: { : ObjectId('5b59227939cb64017fc81e2e') }\n",
      "E11000 duplicate key error collection: twitter.tweets index: _id_ dup key: { : ObjectId('5b59227939cb64017fc81e2f') }\n",
      "E11000 duplicate key error collection: twitter.tweets index: _id_ dup key: { : ObjectId('5b59227939cb64017fc81e30') }\n",
      "E11000 duplicate key error collection: twitter.tweets index: _id_ dup key: { : ObjectId('5b59227939cb64017fc81e31') }\n",
      "E11000 duplicate key error collection: twitter.tweets index: _id_ dup key: { : ObjectId('5b59227939cb64017fc81e32') }\n",
      "E11000 duplicate key error collection: twitter.tweets index: _id_ dup key: { : ObjectId('5b59227939cb64017fc81e33') }\n",
      "E11000 duplicate key error collection: twitter.tweets index: _id_ dup key: { : ObjectId('5b59227939cb64017fc81e34') }\n",
      "E11000 duplicate key error collection: twitter.tweets index: _id_ dup key: { : ObjectId('5b59227939cb64017fc81e35') }\n",
      "E11000 duplicate key error collection: twitter.tweets index: _id_ dup key: { : ObjectId('5b59227939cb64017fc81e36') }\n",
      "E11000 duplicate key error collection: twitter.tweets index: _id_ dup key: { : ObjectId('5b59227939cb64017fc81e37') }\n",
      "E11000 duplicate key error collection: twitter.tweets index: _id_ dup key: { : ObjectId('5b59227939cb64017fc81e38') }\n",
      "E11000 duplicate key error collection: twitter.tweets index: _id_ dup key: { : ObjectId('5b59227a39cb64017fc81e39') }\n",
      "E11000 duplicate key error collection: twitter.tweets index: _id_ dup key: { : ObjectId('5b59227a39cb64017fc81e3a') }\n",
      "E11000 duplicate key error collection: twitter.tweets index: _id_ dup key: { : ObjectId('5b59227a39cb64017fc81e3b') }\n",
      "E11000 duplicate key error collection: twitter.tweets index: _id_ dup key: { : ObjectId('5b59227a39cb64017fc81e3c') }\n",
      "E11000 duplicate key error collection: twitter.tweets index: _id_ dup key: { : ObjectId('5b59227a39cb64017fc81e3d') }\n"
     ]
    },
    {
     "name": "stdout",
     "output_type": "stream",
     "text": [
      "E11000 duplicate key error collection: twitter.tweets index: _id_ dup key: { : ObjectId('5b59227a39cb64017fc81e3e') }\n",
      "E11000 duplicate key error collection: twitter.tweets index: _id_ dup key: { : ObjectId('5b59227a39cb64017fc81e3f') }\n",
      "E11000 duplicate key error collection: twitter.tweets index: _id_ dup key: { : ObjectId('5b59227a39cb64017fc81e40') }\n",
      "E11000 duplicate key error collection: twitter.tweets index: _id_ dup key: { : ObjectId('5b59227a39cb64017fc81e41') }\n",
      "E11000 duplicate key error collection: twitter.tweets index: _id_ dup key: { : ObjectId('5b59227a39cb64017fc81e42') }\n",
      "E11000 duplicate key error collection: twitter.tweets index: _id_ dup key: { : ObjectId('5b59227b39cb64017fc81e43') }\n",
      "E11000 duplicate key error collection: twitter.tweets index: _id_ dup key: { : ObjectId('5b59227b39cb64017fc81e44') }\n",
      "E11000 duplicate key error collection: twitter.tweets index: _id_ dup key: { : ObjectId('5b59227b39cb64017fc81e45') }\n",
      "E11000 duplicate key error collection: twitter.tweets index: _id_ dup key: { : ObjectId('5b59227b39cb64017fc81e46') }\n",
      "E11000 duplicate key error collection: twitter.tweets index: _id_ dup key: { : ObjectId('5b59227539cb64017fc81e15') }\n",
      "E11000 duplicate key error collection: twitter.tweets index: _id_ dup key: { : ObjectId('5b59227639cb64017fc81e16') }\n",
      "E11000 duplicate key error collection: twitter.tweets index: _id_ dup key: { : ObjectId('5b59227639cb64017fc81e17') }\n",
      "E11000 duplicate key error collection: twitter.tweets index: _id_ dup key: { : ObjectId('5b59227639cb64017fc81e18') }\n",
      "E11000 duplicate key error collection: twitter.tweets index: _id_ dup key: { : ObjectId('5b59227639cb64017fc81e19') }\n",
      "E11000 duplicate key error collection: twitter.tweets index: _id_ dup key: { : ObjectId('5b59227739cb64017fc81e1a') }\n",
      "E11000 duplicate key error collection: twitter.tweets index: _id_ dup key: { : ObjectId('5b59227739cb64017fc81e1b') }\n",
      "E11000 duplicate key error collection: twitter.tweets index: _id_ dup key: { : ObjectId('5b59227739cb64017fc81e1c') }\n",
      "E11000 duplicate key error collection: twitter.tweets index: _id_ dup key: { : ObjectId('5b59227739cb64017fc81e1d') }\n",
      "E11000 duplicate key error collection: twitter.tweets index: _id_ dup key: { : ObjectId('5b59227739cb64017fc81e1e') }\n",
      "E11000 duplicate key error collection: twitter.tweets index: _id_ dup key: { : ObjectId('5b59227739cb64017fc81e1f') }\n",
      "E11000 duplicate key error collection: twitter.tweets index: _id_ dup key: { : ObjectId('5b59227739cb64017fc81e20') }\n",
      "E11000 duplicate key error collection: twitter.tweets index: _id_ dup key: { : ObjectId('5b59227739cb64017fc81e21') }\n",
      "E11000 duplicate key error collection: twitter.tweets index: _id_ dup key: { : ObjectId('5b59227739cb64017fc81e22') }\n",
      "E11000 duplicate key error collection: twitter.tweets index: _id_ dup key: { : ObjectId('5b59227739cb64017fc81e23') }\n",
      "E11000 duplicate key error collection: twitter.tweets index: _id_ dup key: { : ObjectId('5b59227739cb64017fc81e24') }\n",
      "E11000 duplicate key error collection: twitter.tweets index: _id_ dup key: { : ObjectId('5b59227739cb64017fc81e25') }\n",
      "E11000 duplicate key error collection: twitter.tweets index: _id_ dup key: { : ObjectId('5b59227839cb64017fc81e26') }\n",
      "E11000 duplicate key error collection: twitter.tweets index: _id_ dup key: { : ObjectId('5b59227839cb64017fc81e27') }\n",
      "E11000 duplicate key error collection: twitter.tweets index: _id_ dup key: { : ObjectId('5b59227839cb64017fc81e28') }\n",
      "E11000 duplicate key error collection: twitter.tweets index: _id_ dup key: { : ObjectId('5b59227839cb64017fc81e29') }\n",
      "E11000 duplicate key error collection: twitter.tweets index: _id_ dup key: { : ObjectId('5b59227839cb64017fc81e2a') }\n",
      "E11000 duplicate key error collection: twitter.tweets index: _id_ dup key: { : ObjectId('5b59227839cb64017fc81e2b') }\n",
      "E11000 duplicate key error collection: twitter.tweets index: _id_ dup key: { : ObjectId('5b59227839cb64017fc81e2c') }\n",
      "E11000 duplicate key error collection: twitter.tweets index: _id_ dup key: { : ObjectId('5b59227839cb64017fc81e2d') }\n",
      "E11000 duplicate key error collection: twitter.tweets index: _id_ dup key: { : ObjectId('5b59227939cb64017fc81e2e') }\n",
      "E11000 duplicate key error collection: twitter.tweets index: _id_ dup key: { : ObjectId('5b59227939cb64017fc81e2f') }\n",
      "E11000 duplicate key error collection: twitter.tweets index: _id_ dup key: { : ObjectId('5b59227939cb64017fc81e30') }\n",
      "E11000 duplicate key error collection: twitter.tweets index: _id_ dup key: { : ObjectId('5b59227939cb64017fc81e31') }\n",
      "E11000 duplicate key error collection: twitter.tweets index: _id_ dup key: { : ObjectId('5b59227939cb64017fc81e32') }\n",
      "E11000 duplicate key error collection: twitter.tweets index: _id_ dup key: { : ObjectId('5b59227939cb64017fc81e33') }\n",
      "E11000 duplicate key error collection: twitter.tweets index: _id_ dup key: { : ObjectId('5b59227939cb64017fc81e34') }\n",
      "E11000 duplicate key error collection: twitter.tweets index: _id_ dup key: { : ObjectId('5b59227939cb64017fc81e35') }\n",
      "E11000 duplicate key error collection: twitter.tweets index: _id_ dup key: { : ObjectId('5b59227939cb64017fc81e36') }\n",
      "E11000 duplicate key error collection: twitter.tweets index: _id_ dup key: { : ObjectId('5b59227939cb64017fc81e37') }\n",
      "E11000 duplicate key error collection: twitter.tweets index: _id_ dup key: { : ObjectId('5b59227939cb64017fc81e38') }\n",
      "E11000 duplicate key error collection: twitter.tweets index: _id_ dup key: { : ObjectId('5b59227a39cb64017fc81e39') }\n",
      "E11000 duplicate key error collection: twitter.tweets index: _id_ dup key: { : ObjectId('5b59227a39cb64017fc81e3a') }\n",
      "E11000 duplicate key error collection: twitter.tweets index: _id_ dup key: { : ObjectId('5b59227a39cb64017fc81e3b') }\n",
      "E11000 duplicate key error collection: twitter.tweets index: _id_ dup key: { : ObjectId('5b59227a39cb64017fc81e3c') }\n",
      "E11000 duplicate key error collection: twitter.tweets index: _id_ dup key: { : ObjectId('5b59227a39cb64017fc81e3d') }\n",
      "E11000 duplicate key error collection: twitter.tweets index: _id_ dup key: { : ObjectId('5b59227a39cb64017fc81e3e') }\n",
      "E11000 duplicate key error collection: twitter.tweets index: _id_ dup key: { : ObjectId('5b59227a39cb64017fc81e3f') }\n",
      "E11000 duplicate key error collection: twitter.tweets index: _id_ dup key: { : ObjectId('5b59227a39cb64017fc81e40') }\n",
      "E11000 duplicate key error collection: twitter.tweets index: _id_ dup key: { : ObjectId('5b59227a39cb64017fc81e41') }\n",
      "E11000 duplicate key error collection: twitter.tweets index: _id_ dup key: { : ObjectId('5b59227a39cb64017fc81e42') }\n",
      "E11000 duplicate key error collection: twitter.tweets index: _id_ dup key: { : ObjectId('5b59227b39cb64017fc81e43') }\n",
      "E11000 duplicate key error collection: twitter.tweets index: _id_ dup key: { : ObjectId('5b59227b39cb64017fc81e44') }\n",
      "E11000 duplicate key error collection: twitter.tweets index: _id_ dup key: { : ObjectId('5b59227b39cb64017fc81e45') }\n",
      "E11000 duplicate key error collection: twitter.tweets index: _id_ dup key: { : ObjectId('5b59227b39cb64017fc81e46') }\n",
      "E11000 duplicate key error collection: twitter.tweets index: _id_ dup key: { : ObjectId('5b59227539cb64017fc81e15') }\n",
      "E11000 duplicate key error collection: twitter.tweets index: _id_ dup key: { : ObjectId('5b59227639cb64017fc81e16') }\n",
      "E11000 duplicate key error collection: twitter.tweets index: _id_ dup key: { : ObjectId('5b59227639cb64017fc81e17') }\n",
      "E11000 duplicate key error collection: twitter.tweets index: _id_ dup key: { : ObjectId('5b59227639cb64017fc81e18') }\n",
      "E11000 duplicate key error collection: twitter.tweets index: _id_ dup key: { : ObjectId('5b59227639cb64017fc81e19') }\n",
      "E11000 duplicate key error collection: twitter.tweets index: _id_ dup key: { : ObjectId('5b59227739cb64017fc81e1a') }\n",
      "E11000 duplicate key error collection: twitter.tweets index: _id_ dup key: { : ObjectId('5b59227739cb64017fc81e1b') }\n",
      "E11000 duplicate key error collection: twitter.tweets index: _id_ dup key: { : ObjectId('5b59227739cb64017fc81e1c') }\n",
      "E11000 duplicate key error collection: twitter.tweets index: _id_ dup key: { : ObjectId('5b59227739cb64017fc81e1d') }\n",
      "E11000 duplicate key error collection: twitter.tweets index: _id_ dup key: { : ObjectId('5b59227739cb64017fc81e1e') }\n",
      "E11000 duplicate key error collection: twitter.tweets index: _id_ dup key: { : ObjectId('5b59227739cb64017fc81e1f') }\n",
      "E11000 duplicate key error collection: twitter.tweets index: _id_ dup key: { : ObjectId('5b59227739cb64017fc81e20') }\n"
     ]
    },
    {
     "name": "stdout",
     "output_type": "stream",
     "text": [
      "E11000 duplicate key error collection: twitter.tweets index: _id_ dup key: { : ObjectId('5b59227739cb64017fc81e21') }\n",
      "E11000 duplicate key error collection: twitter.tweets index: _id_ dup key: { : ObjectId('5b59227739cb64017fc81e22') }\n",
      "E11000 duplicate key error collection: twitter.tweets index: _id_ dup key: { : ObjectId('5b59227739cb64017fc81e23') }\n",
      "E11000 duplicate key error collection: twitter.tweets index: _id_ dup key: { : ObjectId('5b59227739cb64017fc81e24') }\n",
      "E11000 duplicate key error collection: twitter.tweets index: _id_ dup key: { : ObjectId('5b59227739cb64017fc81e25') }\n",
      "E11000 duplicate key error collection: twitter.tweets index: _id_ dup key: { : ObjectId('5b59227839cb64017fc81e26') }\n",
      "E11000 duplicate key error collection: twitter.tweets index: _id_ dup key: { : ObjectId('5b59227839cb64017fc81e27') }\n",
      "E11000 duplicate key error collection: twitter.tweets index: _id_ dup key: { : ObjectId('5b59227839cb64017fc81e28') }\n",
      "E11000 duplicate key error collection: twitter.tweets index: _id_ dup key: { : ObjectId('5b59227839cb64017fc81e29') }\n",
      "E11000 duplicate key error collection: twitter.tweets index: _id_ dup key: { : ObjectId('5b59227839cb64017fc81e2a') }\n",
      "E11000 duplicate key error collection: twitter.tweets index: _id_ dup key: { : ObjectId('5b59227839cb64017fc81e2b') }\n",
      "E11000 duplicate key error collection: twitter.tweets index: _id_ dup key: { : ObjectId('5b59227839cb64017fc81e2c') }\n",
      "E11000 duplicate key error collection: twitter.tweets index: _id_ dup key: { : ObjectId('5b59227839cb64017fc81e2d') }\n",
      "E11000 duplicate key error collection: twitter.tweets index: _id_ dup key: { : ObjectId('5b59227939cb64017fc81e2e') }\n",
      "E11000 duplicate key error collection: twitter.tweets index: _id_ dup key: { : ObjectId('5b59227939cb64017fc81e2f') }\n",
      "E11000 duplicate key error collection: twitter.tweets index: _id_ dup key: { : ObjectId('5b59227939cb64017fc81e30') }\n",
      "E11000 duplicate key error collection: twitter.tweets index: _id_ dup key: { : ObjectId('5b59227939cb64017fc81e31') }\n",
      "E11000 duplicate key error collection: twitter.tweets index: _id_ dup key: { : ObjectId('5b59227939cb64017fc81e32') }\n",
      "E11000 duplicate key error collection: twitter.tweets index: _id_ dup key: { : ObjectId('5b59227939cb64017fc81e33') }\n",
      "E11000 duplicate key error collection: twitter.tweets index: _id_ dup key: { : ObjectId('5b59227939cb64017fc81e34') }\n",
      "E11000 duplicate key error collection: twitter.tweets index: _id_ dup key: { : ObjectId('5b59227939cb64017fc81e35') }\n",
      "E11000 duplicate key error collection: twitter.tweets index: _id_ dup key: { : ObjectId('5b59227939cb64017fc81e36') }\n",
      "E11000 duplicate key error collection: twitter.tweets index: _id_ dup key: { : ObjectId('5b59227939cb64017fc81e37') }\n",
      "E11000 duplicate key error collection: twitter.tweets index: _id_ dup key: { : ObjectId('5b59227939cb64017fc81e38') }\n",
      "E11000 duplicate key error collection: twitter.tweets index: _id_ dup key: { : ObjectId('5b59227a39cb64017fc81e39') }\n",
      "E11000 duplicate key error collection: twitter.tweets index: _id_ dup key: { : ObjectId('5b59227a39cb64017fc81e3a') }\n",
      "E11000 duplicate key error collection: twitter.tweets index: _id_ dup key: { : ObjectId('5b59227a39cb64017fc81e3b') }\n",
      "E11000 duplicate key error collection: twitter.tweets index: _id_ dup key: { : ObjectId('5b59227a39cb64017fc81e3c') }\n",
      "E11000 duplicate key error collection: twitter.tweets index: _id_ dup key: { : ObjectId('5b59227a39cb64017fc81e3d') }\n",
      "E11000 duplicate key error collection: twitter.tweets index: _id_ dup key: { : ObjectId('5b59227a39cb64017fc81e3e') }\n",
      "E11000 duplicate key error collection: twitter.tweets index: _id_ dup key: { : ObjectId('5b59227a39cb64017fc81e3f') }\n",
      "E11000 duplicate key error collection: twitter.tweets index: _id_ dup key: { : ObjectId('5b59227a39cb64017fc81e40') }\n",
      "E11000 duplicate key error collection: twitter.tweets index: _id_ dup key: { : ObjectId('5b59227a39cb64017fc81e41') }\n",
      "E11000 duplicate key error collection: twitter.tweets index: _id_ dup key: { : ObjectId('5b59227a39cb64017fc81e42') }\n",
      "E11000 duplicate key error collection: twitter.tweets index: _id_ dup key: { : ObjectId('5b59227b39cb64017fc81e43') }\n",
      "E11000 duplicate key error collection: twitter.tweets index: _id_ dup key: { : ObjectId('5b59227b39cb64017fc81e44') }\n",
      "E11000 duplicate key error collection: twitter.tweets index: _id_ dup key: { : ObjectId('5b59227b39cb64017fc81e45') }\n",
      "E11000 duplicate key error collection: twitter.tweets index: _id_ dup key: { : ObjectId('5b59227b39cb64017fc81e46') }\n",
      "E11000 duplicate key error collection: twitter.tweets index: _id_ dup key: { : ObjectId('5b59227539cb64017fc81e15') }\n",
      "E11000 duplicate key error collection: twitter.tweets index: _id_ dup key: { : ObjectId('5b59227639cb64017fc81e16') }\n",
      "E11000 duplicate key error collection: twitter.tweets index: _id_ dup key: { : ObjectId('5b59227639cb64017fc81e17') }\n",
      "E11000 duplicate key error collection: twitter.tweets index: _id_ dup key: { : ObjectId('5b59227639cb64017fc81e18') }\n",
      "E11000 duplicate key error collection: twitter.tweets index: _id_ dup key: { : ObjectId('5b59227639cb64017fc81e19') }\n",
      "E11000 duplicate key error collection: twitter.tweets index: _id_ dup key: { : ObjectId('5b59227739cb64017fc81e1a') }\n",
      "E11000 duplicate key error collection: twitter.tweets index: _id_ dup key: { : ObjectId('5b59227739cb64017fc81e1b') }\n",
      "E11000 duplicate key error collection: twitter.tweets index: _id_ dup key: { : ObjectId('5b59227739cb64017fc81e1c') }\n",
      "E11000 duplicate key error collection: twitter.tweets index: _id_ dup key: { : ObjectId('5b59227739cb64017fc81e1d') }\n",
      "E11000 duplicate key error collection: twitter.tweets index: _id_ dup key: { : ObjectId('5b59227739cb64017fc81e1e') }\n",
      "E11000 duplicate key error collection: twitter.tweets index: _id_ dup key: { : ObjectId('5b59227739cb64017fc81e1f') }\n",
      "E11000 duplicate key error collection: twitter.tweets index: _id_ dup key: { : ObjectId('5b59227739cb64017fc81e20') }\n",
      "E11000 duplicate key error collection: twitter.tweets index: _id_ dup key: { : ObjectId('5b59227739cb64017fc81e21') }\n",
      "E11000 duplicate key error collection: twitter.tweets index: _id_ dup key: { : ObjectId('5b59227739cb64017fc81e22') }\n",
      "E11000 duplicate key error collection: twitter.tweets index: _id_ dup key: { : ObjectId('5b59227739cb64017fc81e23') }\n",
      "E11000 duplicate key error collection: twitter.tweets index: _id_ dup key: { : ObjectId('5b59227739cb64017fc81e24') }\n",
      "E11000 duplicate key error collection: twitter.tweets index: _id_ dup key: { : ObjectId('5b59227739cb64017fc81e25') }\n",
      "E11000 duplicate key error collection: twitter.tweets index: _id_ dup key: { : ObjectId('5b59227839cb64017fc81e26') }\n",
      "E11000 duplicate key error collection: twitter.tweets index: _id_ dup key: { : ObjectId('5b59227839cb64017fc81e27') }\n",
      "E11000 duplicate key error collection: twitter.tweets index: _id_ dup key: { : ObjectId('5b59227839cb64017fc81e28') }\n",
      "E11000 duplicate key error collection: twitter.tweets index: _id_ dup key: { : ObjectId('5b59227839cb64017fc81e29') }\n",
      "E11000 duplicate key error collection: twitter.tweets index: _id_ dup key: { : ObjectId('5b59227839cb64017fc81e2a') }\n",
      "E11000 duplicate key error collection: twitter.tweets index: _id_ dup key: { : ObjectId('5b59227839cb64017fc81e2b') }\n",
      "E11000 duplicate key error collection: twitter.tweets index: _id_ dup key: { : ObjectId('5b59227839cb64017fc81e2c') }\n",
      "E11000 duplicate key error collection: twitter.tweets index: _id_ dup key: { : ObjectId('5b59227839cb64017fc81e2d') }\n",
      "E11000 duplicate key error collection: twitter.tweets index: _id_ dup key: { : ObjectId('5b59227939cb64017fc81e2e') }\n",
      "E11000 duplicate key error collection: twitter.tweets index: _id_ dup key: { : ObjectId('5b59227939cb64017fc81e2f') }\n",
      "E11000 duplicate key error collection: twitter.tweets index: _id_ dup key: { : ObjectId('5b59227939cb64017fc81e30') }\n",
      "E11000 duplicate key error collection: twitter.tweets index: _id_ dup key: { : ObjectId('5b59227939cb64017fc81e31') }\n",
      "E11000 duplicate key error collection: twitter.tweets index: _id_ dup key: { : ObjectId('5b59227939cb64017fc81e32') }\n",
      "E11000 duplicate key error collection: twitter.tweets index: _id_ dup key: { : ObjectId('5b59227939cb64017fc81e33') }\n",
      "E11000 duplicate key error collection: twitter.tweets index: _id_ dup key: { : ObjectId('5b59227939cb64017fc81e34') }\n",
      "E11000 duplicate key error collection: twitter.tweets index: _id_ dup key: { : ObjectId('5b59227939cb64017fc81e35') }\n"
     ]
    },
    {
     "name": "stdout",
     "output_type": "stream",
     "text": [
      "E11000 duplicate key error collection: twitter.tweets index: _id_ dup key: { : ObjectId('5b59227939cb64017fc81e36') }\n",
      "E11000 duplicate key error collection: twitter.tweets index: _id_ dup key: { : ObjectId('5b59227939cb64017fc81e37') }\n",
      "E11000 duplicate key error collection: twitter.tweets index: _id_ dup key: { : ObjectId('5b59227939cb64017fc81e38') }\n",
      "E11000 duplicate key error collection: twitter.tweets index: _id_ dup key: { : ObjectId('5b59227a39cb64017fc81e39') }\n",
      "E11000 duplicate key error collection: twitter.tweets index: _id_ dup key: { : ObjectId('5b59227a39cb64017fc81e3a') }\n",
      "E11000 duplicate key error collection: twitter.tweets index: _id_ dup key: { : ObjectId('5b59227a39cb64017fc81e3b') }\n",
      "E11000 duplicate key error collection: twitter.tweets index: _id_ dup key: { : ObjectId('5b59227a39cb64017fc81e3c') }\n",
      "E11000 duplicate key error collection: twitter.tweets index: _id_ dup key: { : ObjectId('5b59227a39cb64017fc81e3d') }\n",
      "E11000 duplicate key error collection: twitter.tweets index: _id_ dup key: { : ObjectId('5b59227a39cb64017fc81e3e') }\n",
      "E11000 duplicate key error collection: twitter.tweets index: _id_ dup key: { : ObjectId('5b59227a39cb64017fc81e3f') }\n",
      "E11000 duplicate key error collection: twitter.tweets index: _id_ dup key: { : ObjectId('5b59227a39cb64017fc81e40') }\n",
      "E11000 duplicate key error collection: twitter.tweets index: _id_ dup key: { : ObjectId('5b59227a39cb64017fc81e41') }\n",
      "E11000 duplicate key error collection: twitter.tweets index: _id_ dup key: { : ObjectId('5b59227a39cb64017fc81e42') }\n",
      "E11000 duplicate key error collection: twitter.tweets index: _id_ dup key: { : ObjectId('5b59227b39cb64017fc81e43') }\n",
      "E11000 duplicate key error collection: twitter.tweets index: _id_ dup key: { : ObjectId('5b59227b39cb64017fc81e44') }\n",
      "E11000 duplicate key error collection: twitter.tweets index: _id_ dup key: { : ObjectId('5b59227b39cb64017fc81e45') }\n",
      "E11000 duplicate key error collection: twitter.tweets index: _id_ dup key: { : ObjectId('5b59227b39cb64017fc81e46') }\n",
      "E11000 duplicate key error collection: twitter.tweets index: _id_ dup key: { : ObjectId('5b59227539cb64017fc81e15') }\n",
      "E11000 duplicate key error collection: twitter.tweets index: _id_ dup key: { : ObjectId('5b59227639cb64017fc81e16') }\n",
      "E11000 duplicate key error collection: twitter.tweets index: _id_ dup key: { : ObjectId('5b59227639cb64017fc81e17') }\n",
      "E11000 duplicate key error collection: twitter.tweets index: _id_ dup key: { : ObjectId('5b59227639cb64017fc81e18') }\n",
      "E11000 duplicate key error collection: twitter.tweets index: _id_ dup key: { : ObjectId('5b59227639cb64017fc81e19') }\n",
      "E11000 duplicate key error collection: twitter.tweets index: _id_ dup key: { : ObjectId('5b59227739cb64017fc81e1a') }\n",
      "E11000 duplicate key error collection: twitter.tweets index: _id_ dup key: { : ObjectId('5b59227739cb64017fc81e1b') }\n",
      "E11000 duplicate key error collection: twitter.tweets index: _id_ dup key: { : ObjectId('5b59227739cb64017fc81e1c') }\n",
      "E11000 duplicate key error collection: twitter.tweets index: _id_ dup key: { : ObjectId('5b59227739cb64017fc81e1d') }\n",
      "E11000 duplicate key error collection: twitter.tweets index: _id_ dup key: { : ObjectId('5b59227739cb64017fc81e1e') }\n",
      "E11000 duplicate key error collection: twitter.tweets index: _id_ dup key: { : ObjectId('5b59227739cb64017fc81e1f') }\n",
      "E11000 duplicate key error collection: twitter.tweets index: _id_ dup key: { : ObjectId('5b59227739cb64017fc81e20') }\n",
      "E11000 duplicate key error collection: twitter.tweets index: _id_ dup key: { : ObjectId('5b59227739cb64017fc81e21') }\n",
      "E11000 duplicate key error collection: twitter.tweets index: _id_ dup key: { : ObjectId('5b59227739cb64017fc81e22') }\n",
      "E11000 duplicate key error collection: twitter.tweets index: _id_ dup key: { : ObjectId('5b59227739cb64017fc81e23') }\n",
      "E11000 duplicate key error collection: twitter.tweets index: _id_ dup key: { : ObjectId('5b59227739cb64017fc81e24') }\n",
      "E11000 duplicate key error collection: twitter.tweets index: _id_ dup key: { : ObjectId('5b59227739cb64017fc81e25') }\n",
      "E11000 duplicate key error collection: twitter.tweets index: _id_ dup key: { : ObjectId('5b59227839cb64017fc81e26') }\n",
      "E11000 duplicate key error collection: twitter.tweets index: _id_ dup key: { : ObjectId('5b59227839cb64017fc81e27') }\n",
      "E11000 duplicate key error collection: twitter.tweets index: _id_ dup key: { : ObjectId('5b59227839cb64017fc81e28') }\n",
      "E11000 duplicate key error collection: twitter.tweets index: _id_ dup key: { : ObjectId('5b59227839cb64017fc81e29') }\n",
      "E11000 duplicate key error collection: twitter.tweets index: _id_ dup key: { : ObjectId('5b59227839cb64017fc81e2a') }\n",
      "E11000 duplicate key error collection: twitter.tweets index: _id_ dup key: { : ObjectId('5b59227839cb64017fc81e2b') }\n",
      "E11000 duplicate key error collection: twitter.tweets index: _id_ dup key: { : ObjectId('5b59227839cb64017fc81e2c') }\n",
      "E11000 duplicate key error collection: twitter.tweets index: _id_ dup key: { : ObjectId('5b59227839cb64017fc81e2d') }\n",
      "E11000 duplicate key error collection: twitter.tweets index: _id_ dup key: { : ObjectId('5b59227939cb64017fc81e2e') }\n",
      "E11000 duplicate key error collection: twitter.tweets index: _id_ dup key: { : ObjectId('5b59227939cb64017fc81e2f') }\n",
      "E11000 duplicate key error collection: twitter.tweets index: _id_ dup key: { : ObjectId('5b59227939cb64017fc81e30') }\n",
      "E11000 duplicate key error collection: twitter.tweets index: _id_ dup key: { : ObjectId('5b59227939cb64017fc81e31') }\n",
      "E11000 duplicate key error collection: twitter.tweets index: _id_ dup key: { : ObjectId('5b59227939cb64017fc81e32') }\n",
      "E11000 duplicate key error collection: twitter.tweets index: _id_ dup key: { : ObjectId('5b59227939cb64017fc81e33') }\n",
      "E11000 duplicate key error collection: twitter.tweets index: _id_ dup key: { : ObjectId('5b59227939cb64017fc81e34') }\n",
      "E11000 duplicate key error collection: twitter.tweets index: _id_ dup key: { : ObjectId('5b59227939cb64017fc81e35') }\n",
      "E11000 duplicate key error collection: twitter.tweets index: _id_ dup key: { : ObjectId('5b59227939cb64017fc81e36') }\n",
      "E11000 duplicate key error collection: twitter.tweets index: _id_ dup key: { : ObjectId('5b59227939cb64017fc81e37') }\n",
      "E11000 duplicate key error collection: twitter.tweets index: _id_ dup key: { : ObjectId('5b59227939cb64017fc81e38') }\n",
      "E11000 duplicate key error collection: twitter.tweets index: _id_ dup key: { : ObjectId('5b59227a39cb64017fc81e39') }\n",
      "E11000 duplicate key error collection: twitter.tweets index: _id_ dup key: { : ObjectId('5b59227a39cb64017fc81e3a') }\n",
      "E11000 duplicate key error collection: twitter.tweets index: _id_ dup key: { : ObjectId('5b59227a39cb64017fc81e3b') }\n",
      "E11000 duplicate key error collection: twitter.tweets index: _id_ dup key: { : ObjectId('5b59227a39cb64017fc81e3c') }\n",
      "E11000 duplicate key error collection: twitter.tweets index: _id_ dup key: { : ObjectId('5b59227a39cb64017fc81e3d') }\n",
      "E11000 duplicate key error collection: twitter.tweets index: _id_ dup key: { : ObjectId('5b59227a39cb64017fc81e3e') }\n",
      "E11000 duplicate key error collection: twitter.tweets index: _id_ dup key: { : ObjectId('5b59227a39cb64017fc81e3f') }\n",
      "E11000 duplicate key error collection: twitter.tweets index: _id_ dup key: { : ObjectId('5b59227a39cb64017fc81e40') }\n",
      "E11000 duplicate key error collection: twitter.tweets index: _id_ dup key: { : ObjectId('5b59227a39cb64017fc81e41') }\n",
      "E11000 duplicate key error collection: twitter.tweets index: _id_ dup key: { : ObjectId('5b59227a39cb64017fc81e42') }\n",
      "E11000 duplicate key error collection: twitter.tweets index: _id_ dup key: { : ObjectId('5b59227b39cb64017fc81e43') }\n",
      "E11000 duplicate key error collection: twitter.tweets index: _id_ dup key: { : ObjectId('5b59227b39cb64017fc81e44') }\n",
      "E11000 duplicate key error collection: twitter.tweets index: _id_ dup key: { : ObjectId('5b59227b39cb64017fc81e45') }\n",
      "E11000 duplicate key error collection: twitter.tweets index: _id_ dup key: { : ObjectId('5b59227b39cb64017fc81e46') }\n",
      "E11000 duplicate key error collection: twitter.tweets index: _id_ dup key: { : ObjectId('5b59227539cb64017fc81e15') }\n",
      "E11000 duplicate key error collection: twitter.tweets index: _id_ dup key: { : ObjectId('5b59227639cb64017fc81e16') }\n",
      "E11000 duplicate key error collection: twitter.tweets index: _id_ dup key: { : ObjectId('5b59227639cb64017fc81e17') }\n",
      "E11000 duplicate key error collection: twitter.tweets index: _id_ dup key: { : ObjectId('5b59227639cb64017fc81e18') }\n"
     ]
    },
    {
     "name": "stdout",
     "output_type": "stream",
     "text": [
      "E11000 duplicate key error collection: twitter.tweets index: _id_ dup key: { : ObjectId('5b59227639cb64017fc81e19') }\n",
      "E11000 duplicate key error collection: twitter.tweets index: _id_ dup key: { : ObjectId('5b59227739cb64017fc81e1a') }\n",
      "E11000 duplicate key error collection: twitter.tweets index: _id_ dup key: { : ObjectId('5b59227739cb64017fc81e1b') }\n",
      "E11000 duplicate key error collection: twitter.tweets index: _id_ dup key: { : ObjectId('5b59227739cb64017fc81e1c') }\n",
      "E11000 duplicate key error collection: twitter.tweets index: _id_ dup key: { : ObjectId('5b59227739cb64017fc81e1d') }\n",
      "E11000 duplicate key error collection: twitter.tweets index: _id_ dup key: { : ObjectId('5b59227739cb64017fc81e1e') }\n",
      "E11000 duplicate key error collection: twitter.tweets index: _id_ dup key: { : ObjectId('5b59227739cb64017fc81e1f') }\n",
      "E11000 duplicate key error collection: twitter.tweets index: _id_ dup key: { : ObjectId('5b59227739cb64017fc81e20') }\n",
      "E11000 duplicate key error collection: twitter.tweets index: _id_ dup key: { : ObjectId('5b59227739cb64017fc81e21') }\n",
      "E11000 duplicate key error collection: twitter.tweets index: _id_ dup key: { : ObjectId('5b59227739cb64017fc81e22') }\n",
      "E11000 duplicate key error collection: twitter.tweets index: _id_ dup key: { : ObjectId('5b59227739cb64017fc81e23') }\n",
      "E11000 duplicate key error collection: twitter.tweets index: _id_ dup key: { : ObjectId('5b59227739cb64017fc81e24') }\n",
      "E11000 duplicate key error collection: twitter.tweets index: _id_ dup key: { : ObjectId('5b59227739cb64017fc81e25') }\n",
      "E11000 duplicate key error collection: twitter.tweets index: _id_ dup key: { : ObjectId('5b59227839cb64017fc81e26') }\n",
      "E11000 duplicate key error collection: twitter.tweets index: _id_ dup key: { : ObjectId('5b59227839cb64017fc81e27') }\n",
      "E11000 duplicate key error collection: twitter.tweets index: _id_ dup key: { : ObjectId('5b59227839cb64017fc81e28') }\n",
      "E11000 duplicate key error collection: twitter.tweets index: _id_ dup key: { : ObjectId('5b59227839cb64017fc81e29') }\n",
      "E11000 duplicate key error collection: twitter.tweets index: _id_ dup key: { : ObjectId('5b59227839cb64017fc81e2a') }\n",
      "E11000 duplicate key error collection: twitter.tweets index: _id_ dup key: { : ObjectId('5b59227839cb64017fc81e2b') }\n",
      "E11000 duplicate key error collection: twitter.tweets index: _id_ dup key: { : ObjectId('5b59227839cb64017fc81e2c') }\n",
      "E11000 duplicate key error collection: twitter.tweets index: _id_ dup key: { : ObjectId('5b59227839cb64017fc81e2d') }\n",
      "E11000 duplicate key error collection: twitter.tweets index: _id_ dup key: { : ObjectId('5b59227939cb64017fc81e2e') }\n",
      "E11000 duplicate key error collection: twitter.tweets index: _id_ dup key: { : ObjectId('5b59227939cb64017fc81e2f') }\n",
      "E11000 duplicate key error collection: twitter.tweets index: _id_ dup key: { : ObjectId('5b59227939cb64017fc81e30') }\n",
      "E11000 duplicate key error collection: twitter.tweets index: _id_ dup key: { : ObjectId('5b59227939cb64017fc81e31') }\n",
      "E11000 duplicate key error collection: twitter.tweets index: _id_ dup key: { : ObjectId('5b59227939cb64017fc81e32') }\n",
      "E11000 duplicate key error collection: twitter.tweets index: _id_ dup key: { : ObjectId('5b59227939cb64017fc81e33') }\n",
      "E11000 duplicate key error collection: twitter.tweets index: _id_ dup key: { : ObjectId('5b59227939cb64017fc81e34') }\n",
      "E11000 duplicate key error collection: twitter.tweets index: _id_ dup key: { : ObjectId('5b59227939cb64017fc81e35') }\n",
      "E11000 duplicate key error collection: twitter.tweets index: _id_ dup key: { : ObjectId('5b59227939cb64017fc81e36') }\n",
      "E11000 duplicate key error collection: twitter.tweets index: _id_ dup key: { : ObjectId('5b59227939cb64017fc81e37') }\n",
      "E11000 duplicate key error collection: twitter.tweets index: _id_ dup key: { : ObjectId('5b59227939cb64017fc81e38') }\n",
      "E11000 duplicate key error collection: twitter.tweets index: _id_ dup key: { : ObjectId('5b59227a39cb64017fc81e39') }\n",
      "E11000 duplicate key error collection: twitter.tweets index: _id_ dup key: { : ObjectId('5b59227a39cb64017fc81e3a') }\n",
      "E11000 duplicate key error collection: twitter.tweets index: _id_ dup key: { : ObjectId('5b59227a39cb64017fc81e3b') }\n",
      "E11000 duplicate key error collection: twitter.tweets index: _id_ dup key: { : ObjectId('5b59227a39cb64017fc81e3c') }\n",
      "E11000 duplicate key error collection: twitter.tweets index: _id_ dup key: { : ObjectId('5b59227a39cb64017fc81e3d') }\n",
      "E11000 duplicate key error collection: twitter.tweets index: _id_ dup key: { : ObjectId('5b59227a39cb64017fc81e3e') }\n",
      "E11000 duplicate key error collection: twitter.tweets index: _id_ dup key: { : ObjectId('5b59227a39cb64017fc81e3f') }\n",
      "E11000 duplicate key error collection: twitter.tweets index: _id_ dup key: { : ObjectId('5b59227a39cb64017fc81e40') }\n",
      "E11000 duplicate key error collection: twitter.tweets index: _id_ dup key: { : ObjectId('5b59227a39cb64017fc81e41') }\n",
      "E11000 duplicate key error collection: twitter.tweets index: _id_ dup key: { : ObjectId('5b59227a39cb64017fc81e42') }\n",
      "E11000 duplicate key error collection: twitter.tweets index: _id_ dup key: { : ObjectId('5b59227b39cb64017fc81e43') }\n",
      "E11000 duplicate key error collection: twitter.tweets index: _id_ dup key: { : ObjectId('5b59227b39cb64017fc81e44') }\n",
      "E11000 duplicate key error collection: twitter.tweets index: _id_ dup key: { : ObjectId('5b59227b39cb64017fc81e45') }\n",
      "E11000 duplicate key error collection: twitter.tweets index: _id_ dup key: { : ObjectId('5b59227b39cb64017fc81e46') }\n"
     ]
    }
   ],
   "source": [
    "for key in s3_files[2:]:\n",
    "    for tweet in tweets_from_s3:\n",
    "        try:\n",
    "            collection_client.insert_one(tweet)\n",
    "        except DuplicateKeyError as e:\n",
    "            print(e)"
   ]
  },
  {
   "cell_type": "markdown",
   "metadata": {},
   "source": [
    "## One More Time"
   ]
  },
  {
   "cell_type": "code",
   "execution_count": 26,
   "metadata": {},
   "outputs": [],
   "source": [
    "tweets = [next(tweet_iterator) for _ in range(50)]\n",
    "\n",
    "filename = lib.create_timestamped_filename(username)\n",
    "with open(filename, 'w') as outfile:\n",
    "    json.dump(tweets, outfile)"
   ]
  },
  {
   "cell_type": "code",
   "execution_count": 28,
   "metadata": {},
   "outputs": [
    {
     "data": {
      "text/plain": [
       "['tweets-mark-2018-07-26_01-25-27-443503.json']"
      ]
     },
     "execution_count": 28,
     "metadata": {},
     "output_type": "execute_result"
    }
   ],
   "source": [
    "current_directory = listdir()\n",
    "current_directory = [file for file in current_directory \n",
    "                     if ('tweets-mark' in file) and ('processed' not in file)]\n",
    "current_directory"
   ]
  },
  {
   "cell_type": "code",
   "execution_count": 29,
   "metadata": {},
   "outputs": [],
   "source": [
    "for filename in current_directory:\n",
    "    lib.write_file_to_S3(s3_client, filename, S3_BUCKET)\n",
    "    old_filename = filename\n",
    "    filename = filename.replace('.json', '')\n",
    "    filename = filename + '-processed.json'\n",
    "    rename(old_filename, filename)"
   ]
  },
  {
   "cell_type": "code",
   "execution_count": 30,
   "metadata": {},
   "outputs": [
    {
     "data": {
      "text/plain": [
       "['tweets-mark-2018-07-24_02-25-50-384070.json',\n",
       " 'tweets-mark-2018-07-24_02-26-34-669341.json',\n",
       " 'tweets-mark-2018-07-24_02-29-27-268409.json',\n",
       " 'tweets-mark-2018-07-24_02-34-15-562280.json',\n",
       " 'tweets-mark-2018-07-24_02-37-46-350548.json',\n",
       " 'tweets-mark-2018-07-24_03-51-56-187383.json',\n",
       " 'tweets-mark-2018-07-24_03-57-55-937055.json',\n",
       " 'tweets-mark-2018-07-24_03-59-20-478995.json',\n",
       " 'tweets-mark-2018-07-26_01-15-10-950495.json',\n",
       " 'tweets-mark-2018-07-26_01-15-10-970777.json',\n",
       " 'tweets-mark-2018-07-26_01-25-27-443503.json']"
      ]
     },
     "execution_count": 30,
     "metadata": {},
     "output_type": "execute_result"
    }
   ],
   "source": [
    "s3_files = lib.list_files_in_S3_bucket(s3_client, S3_BUCKET)\n",
    "s3_files = [file for file in s3_files if 'tweets-mark' in file]\n",
    "s3_files"
   ]
  },
  {
   "cell_type": "code",
   "execution_count": 31,
   "metadata": {},
   "outputs": [
    {
     "data": {
      "text/plain": [
       "'tweets-mark-2018-07-26_01-25-27-443503.json'"
      ]
     },
     "execution_count": 31,
     "metadata": {},
     "output_type": "execute_result"
    }
   ],
   "source": [
    "s3_files[-1]"
   ]
  },
  {
   "cell_type": "code",
   "execution_count": 32,
   "metadata": {},
   "outputs": [],
   "source": [
    "key = s3_files[-1]"
   ]
  },
  {
   "cell_type": "code",
   "execution_count": 33,
   "metadata": {},
   "outputs": [],
   "source": [
    "tweets_from_s3 = lib.read_object_from_S3(s3_client, key, S3_BUCKET)"
   ]
  },
  {
   "cell_type": "code",
   "execution_count": 34,
   "metadata": {},
   "outputs": [
    {
     "data": {
      "text/plain": [
       "<pymongo.results.InsertManyResult at 0x7f6778357f08>"
      ]
     },
     "execution_count": 34,
     "metadata": {},
     "output_type": "execute_result"
    }
   ],
   "source": [
    "collection_client.insert_many(tweets_from_s3)"
   ]
  },
  {
   "cell_type": "markdown",
   "metadata": {},
   "source": [
    "## Automate It"
   ]
  },
  {
   "cell_type": "code",
   "execution_count": 1,
   "metadata": {},
   "outputs": [],
   "source": [
    "from datetime import datetime"
   ]
  },
  {
   "cell_type": "code",
   "execution_count": 6,
   "metadata": {},
   "outputs": [],
   "source": [
    "import lib"
   ]
  },
  {
   "cell_type": "code",
   "execution_count": 7,
   "metadata": {},
   "outputs": [],
   "source": [
    "TOKEN           = \"12270642-8ggOVEjcQ7DAP2VCCZbXYoRtiOf0rngzrsyb82h7k\"\n",
    "TOKEN_SECRET    = \"85KnJJBbdvhZyGhOVLPwk47x2IAHaLEFGhNJdrHXo1Tv8\"\n",
    "CONSUMER_KEY    = \"Jt9H3ve228Tl8yafi4Ip8Iwbw\"\n",
    "CONSUMER_SECRET = \"xXxkq7QM1D7K1w0tFKRIYYviS2EQ288jzbbiwzEYYRQrMyvCDN\"\n",
    "BOUNDING_BOX    = \"-118.5137323688,34.0001996344,-118.4702449172,34.0331651696\"\n",
    "\n",
    "DATABASE        = 'twitter'\n",
    "COLLECTION      = 'tweets'\n",
    "USERNAME        = 'mark'\n",
    "\n",
    "S3_BUCKET       = 'uclax-data-science'"
   ]
  },
  {
   "cell_type": "code",
   "execution_count": 8,
   "metadata": {},
   "outputs": [],
   "source": [
    "tweet_iterator    = lib.create_tweet_iterator(TOKEN, TOKEN_SECRET, \n",
    "                                              CONSUMER_KEY, CONSUMER_SECRET, BOUNDING_BOX)\n",
    "s3_client         = lib.create_boto_client()\n",
    "collection_client = lib.create_mongo_client_to_database_collection(DATABASE, COLLECTION)"
   ]
  },
  {
   "cell_type": "code",
   "execution_count": 9,
   "metadata": {},
   "outputs": [],
   "source": [
    "def timestamp():\n",
    "    now = datetime.now().strftime('%D %H:%M:%S')\n",
    "    print(now, end=' | ')\n",
    "    print('Collecting Tweets', end=' | ')\n",
    "    \n",
    "def collect_tweets(n=50):\n",
    "    tweets = [next(tweet_iterator) for _ in range(n)]\n",
    "    print('{} Tweets'.format(n), end=' | ')\n",
    "    return tweets\n",
    "    \n",
    "def write_to_disk(tweets):\n",
    "    filename = lib.create_timestamped_filename(USERNAME) \n",
    "    with open(filename, 'w') as outfile:\n",
    "        json.dump(tweets, outfile)    \n",
    "    print('Written to Disk', end=' | ')\n",
    "    return filename\n",
    "    \n",
    "def write_to_S3(filename):   \n",
    "    lib.write_file_to_S3(s3_client, filename, S3_BUCKET)\n",
    "    old_filename = filename\n",
    "    filename = filename.replace('.json', '')\n",
    "    filename = filename + '-processed.json'\n",
    "    rename(old_filename, filename)\n",
    "    print('Written to S3', end=' | ')\n",
    "    \n",
    "def insert_to_mongo(key):\n",
    "    tweets_from_s3 = lib.read_object_from_S3(s3_client, key, S3_BUCKET)    \n",
    "    collection_client.insert_many(tweets_from_s3)\n",
    "    print('Inserted to Mongo')"
   ]
  },
  {
   "cell_type": "code",
   "execution_count": 10,
   "metadata": {},
   "outputs": [
    {
     "name": "stdout",
     "output_type": "stream",
     "text": [
      "07/26/18 01:51:19 | Collecting Tweets | 50 Tweets | "
     ]
    },
    {
     "ename": "NameError",
     "evalue": "name 'json' is not defined",
     "output_type": "error",
     "traceback": [
      "\u001b[0;31m---------------------------------------------------------------------------\u001b[0m",
      "\u001b[0;31mNameError\u001b[0m                                 Traceback (most recent call last)",
      "\u001b[0;32m<ipython-input-10-c333aa2d08cc>\u001b[0m in \u001b[0;36m<module>\u001b[0;34m()\u001b[0m\n\u001b[1;32m      2\u001b[0m     \u001b[0mtimestamp\u001b[0m\u001b[0;34m(\u001b[0m\u001b[0;34m)\u001b[0m\u001b[0;34m\u001b[0m\u001b[0m\n\u001b[1;32m      3\u001b[0m     \u001b[0mtweets\u001b[0m \u001b[0;34m=\u001b[0m \u001b[0mcollect_tweets\u001b[0m\u001b[0;34m(\u001b[0m\u001b[0;34m)\u001b[0m\u001b[0;34m\u001b[0m\u001b[0m\n\u001b[0;32m----> 4\u001b[0;31m     \u001b[0mfilename\u001b[0m \u001b[0;34m=\u001b[0m \u001b[0mwrite_to_disk\u001b[0m\u001b[0;34m(\u001b[0m\u001b[0mtweets\u001b[0m\u001b[0;34m)\u001b[0m\u001b[0;34m\u001b[0m\u001b[0m\n\u001b[0m\u001b[1;32m      5\u001b[0m     \u001b[0mwrite_to_S3\u001b[0m\u001b[0;34m(\u001b[0m\u001b[0mfilename\u001b[0m\u001b[0;34m)\u001b[0m\u001b[0;34m\u001b[0m\u001b[0m\n\u001b[1;32m      6\u001b[0m     \u001b[0minsert_to_mongo\u001b[0m\u001b[0;34m(\u001b[0m\u001b[0mfilename\u001b[0m\u001b[0;34m)\u001b[0m\u001b[0;34m\u001b[0m\u001b[0m\n",
      "\u001b[0;32m<ipython-input-9-d783759a48f6>\u001b[0m in \u001b[0;36mwrite_to_disk\u001b[0;34m(tweets)\u001b[0m\n\u001b[1;32m     12\u001b[0m     \u001b[0mfilename\u001b[0m \u001b[0;34m=\u001b[0m \u001b[0mlib\u001b[0m\u001b[0;34m.\u001b[0m\u001b[0mcreate_timestamped_filename\u001b[0m\u001b[0;34m(\u001b[0m\u001b[0mUSERNAME\u001b[0m\u001b[0;34m)\u001b[0m\u001b[0;34m\u001b[0m\u001b[0m\n\u001b[1;32m     13\u001b[0m     \u001b[0;32mwith\u001b[0m \u001b[0mopen\u001b[0m\u001b[0;34m(\u001b[0m\u001b[0mfilename\u001b[0m\u001b[0;34m,\u001b[0m \u001b[0;34m'w'\u001b[0m\u001b[0;34m)\u001b[0m \u001b[0;32mas\u001b[0m \u001b[0moutfile\u001b[0m\u001b[0;34m:\u001b[0m\u001b[0;34m\u001b[0m\u001b[0m\n\u001b[0;32m---> 14\u001b[0;31m         \u001b[0mjson\u001b[0m\u001b[0;34m.\u001b[0m\u001b[0mdump\u001b[0m\u001b[0;34m(\u001b[0m\u001b[0mtweets\u001b[0m\u001b[0;34m,\u001b[0m \u001b[0moutfile\u001b[0m\u001b[0;34m)\u001b[0m\u001b[0;34m\u001b[0m\u001b[0m\n\u001b[0m\u001b[1;32m     15\u001b[0m     \u001b[0mprint\u001b[0m\u001b[0;34m(\u001b[0m\u001b[0;34m'Written to Disk'\u001b[0m\u001b[0;34m,\u001b[0m \u001b[0mend\u001b[0m\u001b[0;34m=\u001b[0m\u001b[0;34m' | '\u001b[0m\u001b[0;34m)\u001b[0m\u001b[0;34m\u001b[0m\u001b[0m\n\u001b[1;32m     16\u001b[0m     \u001b[0;32mreturn\u001b[0m \u001b[0mfilename\u001b[0m\u001b[0;34m\u001b[0m\u001b[0m\n",
      "\u001b[0;31mNameError\u001b[0m: name 'json' is not defined"
     ]
    }
   ],
   "source": [
    "while True:\n",
    "    timestamp()\n",
    "    tweets = collect_tweets()\n",
    "    filename = write_to_disk(tweets)\n",
    "    write_to_S3(filename)\n",
    "    insert_to_mongo(filename)"
   ]
  },
  {
   "cell_type": "code",
   "execution_count": null,
   "metadata": {},
   "outputs": [],
   "source": []
  }
 ],
 "metadata": {
  "kernelspec": {
   "display_name": "Python 3",
   "language": "python",
   "name": "python3"
  },
  "language_info": {
   "codemirror_mode": {
    "name": "ipython",
    "version": 3
   },
   "file_extension": ".py",
   "mimetype": "text/x-python",
   "name": "python",
   "nbconvert_exporter": "python",
   "pygments_lexer": "ipython3",
   "version": "3.6.5"
  }
 },
 "nbformat": 4,
 "nbformat_minor": 2
}
