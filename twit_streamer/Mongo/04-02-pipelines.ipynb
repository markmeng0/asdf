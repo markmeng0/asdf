{
 "cells": [
  {
   "cell_type": "code",
   "execution_count": 1,
   "metadata": {},
   "outputs": [],
   "source": [
    "from lib import create_mongo_client_to_database_collection\n",
    "\n",
    "collection_reference = create_mongo_client_to_database_collection('twitter', 'tweets')"
   ]
  },
  {
   "cell_type": "code",
   "execution_count": 2,
   "metadata": {},
   "outputs": [
    {
     "data": {
      "text/plain": [
       "310387"
      ]
     },
     "execution_count": 2,
     "metadata": {},
     "output_type": "execute_result"
    }
   ],
   "source": [
    "collection_reference.count_documents({})"
   ]
  },
  {
   "cell_type": "code",
   "execution_count": 3,
   "metadata": {},
   "outputs": [],
   "source": [
    "cursor_sampl = collection_reference.aggregate([{'$sample': {'size': 20}}])"
   ]
  },
  {
   "cell_type": "code",
   "execution_count": 4,
   "metadata": {},
   "outputs": [
    {
     "data": {
      "text/plain": [
       "20"
      ]
     },
     "execution_count": 4,
     "metadata": {},
     "output_type": "execute_result"
    }
   ],
   "source": [
    "len(list(cursor_sampl)) "
   ]
  },
  {
   "cell_type": "markdown",
   "metadata": {},
   "source": [
    "| | | | | |\n",
    "|-|-|-|-|-|\n",
    "| `_id`        | `truncated`                 |`user`            |`extended_tweet` | `favorited`                   |\n",
    "| `created_at` | `in_reply_to_status_id`     |`geo`             |`quote_count`    | `retweeted`                   |\n",
    "| `id`         | `in_reply_to_status_id_str` |`coordinates`     |`reply_count`    | `filter_level`                |\n",
    "| `id_str`     | `in_reply_to_user_id`       |`place`           |`retweet_count`  | `lang`                        |\n",
    "| `text`       | `in_reply_to_user_id_str`   |`contributors`    |`favorite_count` | `timestamp_ms`                |\n",
    "| `source`     | `in_reply_to_screen_name`   |`is_quote_status` |`entities`       |                               |\n",
    "\n",
    "\n",
    "\n",
    "\n",
    "\n",
    "\n",
    "\n",
    "\n",
    "\n",
    "\n",
    "\n",
    "\n",
    "\n",
    "\n",
    "\n",
    "\n",
    "\n",
    "\n",
    "\n",
    "\n",
    "\n",
    "\n"
   ]
  },
  {
   "cell_type": "markdown",
   "metadata": {},
   "source": [
    "![](https://www.evernote.com/l/AAEO7gpKcKdI5YJeGrni4GhdlBiBWdTa3YgB/image.png)"
   ]
  },
  {
   "cell_type": "markdown",
   "metadata": {},
   "source": [
    "![](https://i.imgflip.com/245tp9.jpg)"
   ]
  },
  {
   "cell_type": "markdown",
   "metadata": {},
   "source": [
    "## The Aggregation Pipeline\n",
    "\n",
    "A call to the aggregation framework defines a pipeline (figure 6.1), the **aggregation pipeline**, where the output from each step in the pipeline provides input to the next step. Each step executes a single operation on the input documents to transform the input and generate output documents."
   ]
  },
  {
   "cell_type": "markdown",
   "metadata": {},
   "source": [
    "![](https://www.evernote.com/l/AAGxerRxKLZNFrjqxlYK2HPz1R11tr95FFkB/image.png)"
   ]
  },
  {
   "cell_type": "markdown",
   "metadata": {},
   "source": [
    "### Useful Aggregation Pipeline Operations"
   ]
  },
  {
   "cell_type": "markdown",
   "metadata": {},
   "source": [
    "- `$project` // Specify fields to be placed in the output document.\n",
    "- `$match` // Select documents to be processed, similar to find().\n",
    "- `$limit` // Limit the number of documents to be passed to the next step.\n",
    "- `$skip` // Skip a specified number of documents.\n",
    "- `$unwind` // Expand an array, generating one output document for each array entry.\n",
    "- `$group` // Group documents by a specified key.\n",
    "- `$sort` // Sort documents.\n",
    "- `$geoNear` // Select documents near a geospatial location.\n",
    "- `$out` // Write the results of the pipeline to a collection (new in v2.6).\n",
    "- `$redact` // Control access to certain data (new in v2.6)."
   ]
  },
  {
   "cell_type": "code",
   "execution_count": 5,
   "metadata": {},
   "outputs": [],
   "source": [
    "PROJECT = \"$project\"\n",
    "MATCH   = \"$match\"\n",
    "LIMIT   = \"$limit\"\n",
    "UNWIND  = \"$unwind\"\n",
    "GROUP   = \"$group\"\n",
    "SORT    = \"$sort\"\n",
    "COUNT   = \"$count\""
   ]
  },
  {
   "cell_type": "code",
   "execution_count": 6,
   "metadata": {},
   "outputs": [],
   "source": [
    "not_empty = { \"$ne\" : None }"
   ]
  },
  {
   "cell_type": "code",
   "execution_count": 7,
   "metadata": {},
   "outputs": [],
   "source": [
    "cursor = collection_reference.aggregate([\n",
    "    { MATCH : { \"geo\" : not_empty }},\n",
    "    { COUNT : \"geo\"}\n",
    "])"
   ]
  },
  {
   "cell_type": "code",
   "execution_count": 8,
   "metadata": {},
   "outputs": [
    {
     "data": {
      "text/plain": [
       "{'geo': 38344}"
      ]
     },
     "execution_count": 8,
     "metadata": {},
     "output_type": "execute_result"
    }
   ],
   "source": [
    "next(cursor)"
   ]
  },
  {
   "cell_type": "code",
   "execution_count": 9,
   "metadata": {},
   "outputs": [],
   "source": [
    "match_non_null_geo = { MATCH : { \"geo\" : not_empty }}\n",
    "count_geo = { COUNT : \"geo\"}\n",
    "\n",
    "dag_count_non_null_geo = [\n",
    "    match_non_null_geo,\n",
    "    count_geo\n",
    "]"
   ]
  },
  {
   "cell_type": "code",
   "execution_count": 10,
   "metadata": {},
   "outputs": [
    {
     "data": {
      "text/plain": [
       "{'geo': 38344}"
      ]
     },
     "execution_count": 10,
     "metadata": {},
     "output_type": "execute_result"
    }
   ],
   "source": [
    "next(collection_reference.aggregate(dag_count_non_null_geo))"
   ]
  },
  {
   "cell_type": "markdown",
   "metadata": {},
   "source": [
    "### Group Template\n",
    "\n",
    "    { $group: { _id: <expression>, <field1>: { <accumulator1> : <expression1> }, ... } }\n",
    "    \n",
    "#### Accumulators\n",
    "\n",
    "- `$sum`\n",
    "- `$avg`\n",
    "- `$first`\n",
    "- `$last`\n",
    "- `$max`\n",
    "- `$min`\n",
    "- `$stdDevPop`\n",
    "- `$stdDevSamp`"
   ]
  },
  {
   "cell_type": "code",
   "execution_count": 11,
   "metadata": {},
   "outputs": [],
   "source": [
    "greater_than_10 = { \"$gt\" : 10 }\n",
    "sum_1 = { \"$sum\" : 1 }\n",
    "\n",
    "def group_and_count(key):\n",
    "    return { GROUP : {\n",
    "                 \"_id\"   : key,\n",
    "                 \"count\" : sum_1\n",
    "                }\n",
    "           }\n",
    "\n",
    "match_count_gt_10 = { MATCH : { \"count\" : greater_than_10 } }\n",
    "\n",
    "sort_by_count_descending = { SORT : { \"count\" : -1 } }\n",
    "\n",
    "def limit(val):\n",
    "    return { LIMIT : val }"
   ]
  },
  {
   "cell_type": "code",
   "execution_count": 12,
   "metadata": {},
   "outputs": [
    {
     "data": {
      "text/plain": [
       "{'$group': {'_id': '$text', 'count': {'$sum': 1}}}"
      ]
     },
     "execution_count": 12,
     "metadata": {},
     "output_type": "execute_result"
    }
   ],
   "source": [
    "group_and_count(\"$text\")"
   ]
  },
  {
   "cell_type": "code",
   "execution_count": 13,
   "metadata": {},
   "outputs": [
    {
     "data": {
      "text/plain": [
       "[{'_id': 'en', 'count': 257374},\n",
       " {'_id': 'und', 'count': 29395},\n",
       " {'_id': 'es', 'count': 5480},\n",
       " {'_id': 'ko', 'count': 2584},\n",
       " {'_id': 'fr', 'count': 2456}]"
      ]
     },
     "execution_count": 13,
     "metadata": {},
     "output_type": "execute_result"
    }
   ],
   "source": [
    "list(collection_reference.aggregate(\n",
    "    [\n",
    "        group_and_count('$lang'),\n",
    "        match_count_gt_10, \n",
    "        sort_by_count_descending,\n",
    "        limit(5)\n",
    "    ]\n",
    "))\n"
   ]
  },
  {
   "cell_type": "code",
   "execution_count": 14,
   "metadata": {},
   "outputs": [],
   "source": [
    "not_an_empty_array             = { \"$ne\" : [] }\n",
    "match_non_empty_hashtag_arrays = { MATCH : { \"entities.hashtags\" : not_an_empty_array } }\n",
    "project_to_text_only           = { PROJECT : { \"text\" : \"$entities.hashtags.text\", \"_id\" :0 } }\n",
    "unwind_text                    = { UNWIND : \"$text\" }"
   ]
  },
  {
   "cell_type": "code",
   "execution_count": 15,
   "metadata": {
    "scrolled": false
   },
   "outputs": [
    {
     "data": {
      "text/plain": [
       "[{'text': 'Dodgers'},\n",
       " {'text': 'DeadBirds'},\n",
       " {'text': 'Dodgers'},\n",
       " {'text': 'DeadBirds'},\n",
       " {'text': 'thestruggleisreal'},\n",
       " {'text': 'actorslife'},\n",
       " {'text': 'poolday'},\n",
       " {'text': 'heatwave'},\n",
       " {'text': 'littlethings'},\n",
       " {'text': 'LHHH'}]"
      ]
     },
     "execution_count": 15,
     "metadata": {},
     "output_type": "execute_result"
    }
   ],
   "source": [
    "list(collection_reference.aggregate(\n",
    "    [\n",
    "        match_non_empty_hashtag_arrays,\n",
    "        project_to_text_only,\n",
    "        unwind_text,\n",
    "        limit(10)\n",
    "    ]\n",
    "))"
   ]
  },
  {
   "cell_type": "code",
   "execution_count": 16,
   "metadata": {},
   "outputs": [
    {
     "data": {
      "text/plain": [
       "[{'_id': 'job', 'count': 1702},\n",
       " {'_id': 'Hiring', 'count': 1343},\n",
       " {'_id': 'CareerArc', 'count': 1300},\n",
       " {'_id': 'LosAngeles', 'count': 1244},\n",
       " {'_id': 'losangeles', 'count': 789},\n",
       " {'_id': 'earthquake', 'count': 659},\n",
       " {'_id': 'hiring', 'count': 637},\n",
       " {'_id': 'TeenChoice', 'count': 572},\n",
       " {'_id': 'ChoiceFandom', 'count': 550},\n",
       " {'_id': 'california', 'count': 506}]"
      ]
     },
     "execution_count": 16,
     "metadata": {},
     "output_type": "execute_result"
    }
   ],
   "source": [
    "list(collection_reference.aggregate(\n",
    "    [\n",
    "        match_non_empty_hashtag_arrays,\n",
    "        project_to_text_only,\n",
    "        unwind_text,\n",
    "        group_and_count('$text'),\n",
    "        match_count_gt_10, \n",
    "        sort_by_count_descending,\n",
    "        limit(10)\n",
    "    ]\n",
    "))"
   ]
  },
  {
   "cell_type": "code",
   "execution_count": 17,
   "metadata": {},
   "outputs": [],
   "source": [
    "job_hashtags      = ['job', 'jobs', 'hiring', 'careerarc']\n",
    "location_hashtags = ['california', 'losangeles', 'la', 'santamonica', 'glendale', 'paloalto']\n",
    "project_to_lower  = { PROJECT : { \"text\" : {\"$toLower\" : \"$text\"} } }\n",
    "match_not_in_bad  = { MATCH : { \"_id\" : { \"$nin\" : job_hashtags + location_hashtags}}}"
   ]
  },
  {
   "cell_type": "code",
   "execution_count": 18,
   "metadata": {},
   "outputs": [
    {
     "data": {
      "text/plain": [
       "[{'_id': 'earthquake', 'count': 659},\n",
       " {'_id': 'teenchoice', 'count': 575},\n",
       " {'_id': 'choicefandom', 'count': 554},\n",
       " {'_id': 'repost', 'count': 511},\n",
       " {'_id': 'directioners', 'count': 451},\n",
       " {'_id': 'votevela', 'count': 449},\n",
       " {'_id': 'quake', 'count': 422},\n",
       " {'_id': 'gazagenocide', 'count': 400},\n",
       " {'_id': 'gazaunderattack', 'count': 399},\n",
       " {'_id': 'bds', 'count': 399},\n",
       " {'_id': 'boycottisrael', 'count': 396},\n",
       " {'_id': 'greatreturnmarch', 'count': 392},\n",
       " {'_id': 'mtvhottest', 'count': 379},\n",
       " {'_id': 'hollywood', 'count': 374},\n",
       " {'_id': 'music', 'count': 320},\n",
       " {'_id': 'love', 'count': 311},\n",
       " {'_id': 'art', 'count': 251},\n",
       " {'_id': 'summer', 'count': 213},\n",
       " {'_id': 'dtla', 'count': 198},\n",
       " {'_id': 'bb20', 'count': 197},\n",
       " {'_id': 'tbt', 'count': 192},\n",
       " {'_id': '8yearsofonedirection', 'count': 190},\n",
       " {'_id': 'lafc', 'count': 185},\n",
       " {'_id': 'dodgers', 'count': 179},\n",
       " {'_id': 'lafcvla', 'count': 174},\n",
       " {'_id': 'hiphop', 'count': 148},\n",
       " {'_id': 'wynonnaearp', 'count': 148},\n",
       " {'_id': 'silverlake', 'count': 147},\n",
       " {'_id': 'maga', 'count': 142},\n",
       " {'_id': 'sdcc', 'count': 136},\n",
       " {'_id': 'fbf', 'count': 136},\n",
       " {'_id': 'tv', 'count': 133},\n",
       " {'_id': 'rap', 'count': 125},\n",
       " {'_id': 'marketing', 'count': 124},\n",
       " {'_id': 'ebay', 'count': 120},\n",
       " {'_id': 'syfy', 'count': 118},\n",
       " {'_id': 'venicebeach', 'count': 118},\n",
       " {'_id': 'fitness', 'count': 116},\n",
       " {'_id': 'fashion', 'count': 114},\n",
       " {'_id': 'script', 'count': 113},\n",
       " {'_id': 'zzst', 'count': 110},\n",
       " {'_id': 'trump', 'count': 109},\n",
       " {'_id': 'beach', 'count': 108},\n",
       " {'_id': 'crypretty', 'count': 108},\n",
       " {'_id': 'traffic', 'count': 106},\n",
       " {'_id': 'family', 'count': 106},\n",
       " {'_id': 'comedy', 'count': 105},\n",
       " {'_id': 'ca', 'count': 105},\n",
       " {'_id': 'healthcare', 'count': 105},\n",
       " {'_id': 'usa', 'count': 103}]"
      ]
     },
     "execution_count": 18,
     "metadata": {},
     "output_type": "execute_result"
    }
   ],
   "source": [
    "list(collection_reference.aggregate(\n",
    "    [\n",
    "        match_non_empty_hashtag_arrays,\n",
    "        project_to_text_only,\n",
    "        unwind_text,\n",
    "        project_to_lower,\n",
    "        group_and_count('$text'),\n",
    "        match_not_in_bad,\n",
    "        match_count_gt_10, \n",
    "        sort_by_count_descending,\n",
    "        limit(50)\n",
    "    ]\n",
    "))"
   ]
  },
  {
   "cell_type": "code",
   "execution_count": null,
   "metadata": {},
   "outputs": [],
   "source": []
  }
 ],
 "metadata": {
  "kernelspec": {
   "display_name": "Python 3",
   "language": "python",
   "name": "python3"
  },
  "language_info": {
   "codemirror_mode": {
    "name": "ipython",
    "version": 3
   },
   "file_extension": ".py",
   "mimetype": "text/x-python",
   "name": "python",
   "nbconvert_exporter": "python",
   "pygments_lexer": "ipython3",
   "version": "3.6.5"
  }
 },
 "nbformat": 4,
 "nbformat_minor": 2
}
